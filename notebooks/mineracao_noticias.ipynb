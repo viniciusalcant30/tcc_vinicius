{
 "cells": [
  {
   "cell_type": "markdown",
   "metadata": {},
   "source": [
    "# Objetivo:"
   ]
  },
  {
   "cell_type": "markdown",
   "metadata": {},
   "source": [
    "Criar código para que seja possível definir um ticket/empresa listada na bolsa e ser retornado todas as notícias relacionadas"
   ]
  },
  {
   "cell_type": "markdown",
   "metadata": {},
   "source": [
    "as notícias devem conter:\n",
    "* título\n",
    "* data\n",
    "* meio de comunicação\n",
    "* conteúdo textual"
   ]
  },
  {
   "cell_type": "code",
   "execution_count": 1,
   "metadata": {},
   "outputs": [],
   "source": [
    "# criar código para extrair o texto diretamente do link"
   ]
  },
  {
   "cell_type": "markdown",
   "metadata": {},
   "source": [
    "Considerações \n",
    "\n",
    "    - ordenação por ordem de publicação\n",
    "    - os links não funcionam\n",
    "    - funciona melhor em ingles: data vem corretamente"
   ]
  },
  {
   "cell_type": "markdown",
   "metadata": {},
   "source": [
    "## Bing news"
   ]
  },
  {
   "cell_type": "markdown",
   "metadata": {},
   "source": [
    "### API Method"
   ]
  },
  {
   "cell_type": "markdown",
   "metadata": {},
   "source": [
    "* METODO REQUEST"
   ]
  },
  {
   "cell_type": "markdown",
   "metadata": {},
   "source": [
    "https://learn.microsoft.com/en-us/bing/search-apis/bing-news-search/reference/query-parameters\n",
    "\n",
    "\n",
    "https://www.microsoft.com/en-us/bing/apis/pricing"
   ]
  },
  {
   "cell_type": "code",
   "execution_count": 2,
   "metadata": {},
   "outputs": [],
   "source": [
    "import os\n",
    "os.chdir('C:\\\\Users\\\\Vinim\\\\Documents\\\\github\\\\tcc_vinicius')\n"
   ]
  },
  {
   "cell_type": "code",
   "execution_count": 3,
   "metadata": {},
   "outputs": [],
   "source": [
    "import deployed_azure.bing_search as bing\n",
    "import pandas as pd\n",
    "import deployed_azure.util as util\n",
    "from datetime import datetime "
   ]
  },
  {
   "cell_type": "code",
   "execution_count": 4,
   "metadata": {},
   "outputs": [],
   "source": [
    "def process_search(searches, result_count, period=\"week\"):\n",
    "    dfs = []\n",
    "    today = datetime.today().strftime('%Y-%m-%d-%Hh-%Mmin')\n",
    "    for search_term in searches:\n",
    "        result = bing.search_news(search_term, result_count, period)\n",
    "        result['full_text'] = result['url'].apply(util.extract_url_content)\n",
    "        result['key'] = search_term\n",
    "        result['data_de_busca'] = today\n",
    "        dfs.append(result)\n",
    "        \n",
    "    dfs_result = pd.concat(dfs) \n",
    "    return dfs_result"
   ]
  },
  {
   "cell_type": "code",
   "execution_count": 7,
   "metadata": {},
   "outputs": [],
   "source": [
    "searches = ['ABEV3','Ambev']\n",
    "df_result = process_search(searches,70)\n",
    "today = datetime.today().strftime('%Y-%m-%d')\n",
    "# df_result.to_parquet(f'data//result_{today}.parquet')"
   ]
  },
  {
   "cell_type": "code",
   "execution_count": 6,
   "metadata": {},
   "outputs": [],
   "source": [
    "searches = ['FGV']\n",
    "df_result2 = process_search(searches,10)\n",
    "today = datetime.today().strftime('%Y-%m-%d')\n",
    "# df_result.to_parquet(f'data//result_{today}.parquet')"
   ]
  },
  {
   "cell_type": "markdown",
   "metadata": {},
   "source": []
  },
  {
   "cell_type": "code",
   "execution_count": 8,
   "metadata": {},
   "outputs": [
    {
     "data": {
      "text/html": [
       "<div>\n",
       "<style scoped>\n",
       "    .dataframe tbody tr th:only-of-type {\n",
       "        vertical-align: middle;\n",
       "    }\n",
       "\n",
       "    .dataframe tbody tr th {\n",
       "        vertical-align: top;\n",
       "    }\n",
       "\n",
       "    .dataframe thead th {\n",
       "        text-align: right;\n",
       "    }\n",
       "</style>\n",
       "<table border=\"1\" class=\"dataframe\">\n",
       "  <thead>\n",
       "    <tr style=\"text-align: right;\">\n",
       "      <th></th>\n",
       "      <th>name</th>\n",
       "      <th>descriptions</th>\n",
       "      <th>about</th>\n",
       "      <th>provider</th>\n",
       "      <th>url</th>\n",
       "      <th>datePublished</th>\n",
       "      <th>category</th>\n",
       "      <th>descriptions_raw</th>\n",
       "      <th>name_raw</th>\n",
       "      <th>full_text</th>\n",
       "      <th>key</th>\n",
       "      <th>data_de_busca</th>\n",
       "    </tr>\n",
       "  </thead>\n",
       "  <tbody>\n",
       "    <tr>\n",
       "      <th>0</th>\n",
       "      <td>Polícia prende homem por instalar câmeras em t...</td>\n",
       "      <td>Foi apreendido também material com pornografia...</td>\n",
       "      <td>Brazil</td>\n",
       "      <td>globo</td>\n",
       "      <td>https://g1.globo.com/sp/sao-paulo/noticia/2024...</td>\n",
       "      <td>2024-02-06 21:58:00</td>\n",
       "      <td>Brazil</td>\n",
       "      <td>Foi apreendido também material com pornografia...</td>\n",
       "      <td>Polícia prende homem por instalar câmeras em t...</td>\n",
       "      <td>Polícia prende homem por instalar câmeras em t...</td>\n",
       "      <td>FGV</td>\n",
       "      <td>2024-02-06-21h-03min</td>\n",
       "    </tr>\n",
       "    <tr>\n",
       "      <th>1</th>\n",
       "      <td>FGV Conhecimento e IDP promovem debates sobre ...</td>\n",
       "      <td>O Centro Cultural FGV, na capital fluminense, ...</td>\n",
       "      <td>Brazil</td>\n",
       "      <td>Consultor Jurídico</td>\n",
       "      <td>https://www.conjur.com.br/2024-fev-06/fgv-conh...</td>\n",
       "      <td>2024-02-05 21:26:00</td>\n",
       "      <td>Brazil</td>\n",
       "      <td>O Centro Cultural FGV, na capital fluminense, ...</td>\n",
       "      <td>FGV Conhecimento e IDP promovem debates sobre ...</td>\n",
       "      <td>Estúdio ConJur FGV Conhecimento e IDP promovem...</td>\n",
       "      <td>FGV</td>\n",
       "      <td>2024-02-06-21h-03min</td>\n",
       "    </tr>\n",
       "    <tr>\n",
       "      <th>2</th>\n",
       "      <td>FGV: Mensalidades escolares e alimentos pressi...</td>\n",
       "      <td>Os reajustes de mensalidades escolares e os au...</td>\n",
       "      <td>Business</td>\n",
       "      <td>O POVO Online</td>\n",
       "      <td>https://www.opovo.com.br/noticias/economia/202...</td>\n",
       "      <td>2024-02-06 11:52:00</td>\n",
       "      <td>Business</td>\n",
       "      <td>Os reajustes de mensalidades escolares e os au...</td>\n",
       "      <td>FGV: Mensalidades escolares e alimentos pressi...</td>\n",
       "      <td>Os reajustes de mensalidades escolares e os au...</td>\n",
       "      <td>FGV</td>\n",
       "      <td>2024-02-06-21h-03min</td>\n",
       "    </tr>\n",
       "    <tr>\n",
       "      <th>3</th>\n",
       "      <td>FGV: Mão de obra mais cara detém desaceleração...</td>\n",
       "      <td>A alta no custo da mão de obra na construção i...</td>\n",
       "      <td>Business</td>\n",
       "      <td>O POVO Online</td>\n",
       "      <td>https://www.opovo.com.br/noticias/economia/202...</td>\n",
       "      <td>2024-02-06 12:37:00</td>\n",
       "      <td>Business</td>\n",
       "      <td>A alta no custo da mão de obra na construção i...</td>\n",
       "      <td>FGV: Mão de obra mais cara detém desaceleração...</td>\n",
       "      <td>A alta no custo da mão de obra na construção i...</td>\n",
       "      <td>FGV</td>\n",
       "      <td>2024-02-06-21h-03min</td>\n",
       "    </tr>\n",
       "    <tr>\n",
       "      <th>4</th>\n",
       "      <td>IGP-DI recua em janeiro com menor efeito sazon...</td>\n",
       "      <td>O Índice Geral de Preços-Disponibilidade Inter...</td>\n",
       "      <td>Business</td>\n",
       "      <td>Terra</td>\n",
       "      <td>https://www.terra.com.br/economia/igp-di-recua...</td>\n",
       "      <td>2024-02-06 11:19:00</td>\n",
       "      <td>Business</td>\n",
       "      <td>O Índice Geral de Preços-Disponibilidade Inter...</td>\n",
       "      <td>IGP-DI recua em janeiro com menor efeito sazon...</td>\n",
       "      <td>IGP-DI recua em janeiro com menor efeito sazon...</td>\n",
       "      <td>FGV</td>\n",
       "      <td>2024-02-06-21h-03min</td>\n",
       "    </tr>\n",
       "    <tr>\n",
       "      <th>5</th>\n",
       "      <td>Em reunião com o Ibre/FGV, Haddad diz que Faze...</td>\n",
       "      <td>Segundo ele, a reforma do IR ainda precisa de ...</td>\n",
       "      <td>Undefined</td>\n",
       "      <td>O Dia</td>\n",
       "      <td>https://odia.ig.com.br/economia/2024/02/678797...</td>\n",
       "      <td>2024-02-05 21:30:00</td>\n",
       "      <td>Undefined</td>\n",
       "      <td>Segundo ele, a reforma do IR ainda precisa de ...</td>\n",
       "      <td>Em reunião com o Ibre/FGV, Haddad diz que Faze...</td>\n",
       "      <td>Ministro da Fazenda, Fernando Haddad - Valter ...</td>\n",
       "      <td>FGV</td>\n",
       "      <td>2024-02-06-21h-03min</td>\n",
       "    </tr>\n",
       "    <tr>\n",
       "      <th>6</th>\n",
       "      <td>IGP-DI tem deflação de 0,27% em janeiro, puxad...</td>\n",
       "      <td>Entre os indicadores que compõem o IGP-DI, o í...</td>\n",
       "      <td>Business</td>\n",
       "      <td>Jornal Pequeno Online</td>\n",
       "      <td>https://jornalpequeno.com.br/2024/02/06/igp-di...</td>\n",
       "      <td>2024-02-06 12:22:00</td>\n",
       "      <td>Business</td>\n",
       "      <td>Entre os indicadores que compõem o IGP-DI, o í...</td>\n",
       "      <td>IGP-DI tem deflação de 0,27% em janeiro, puxad...</td>\n",
       "      <td>O Índice Geral de Preços – Disponibilidade Int...</td>\n",
       "      <td>FGV</td>\n",
       "      <td>2024-02-06-21h-03min</td>\n",
       "    </tr>\n",
       "    <tr>\n",
       "      <th>7</th>\n",
       "      <td>Deflação do IGP-DI em janeiro pode sinalizar n...</td>\n",
       "      <td>Commodities mais baratas no atacado derrubaram...</td>\n",
       "      <td>Undefined</td>\n",
       "      <td>Valor Economico</td>\n",
       "      <td>https://valor.globo.com/brasil/noticia/2024/02...</td>\n",
       "      <td>2024-02-06 13:10:00</td>\n",
       "      <td>Undefined</td>\n",
       "      <td>Commodities mais baratas no atacado derrubaram...</td>\n",
       "      <td>Deflação do IGP-DI em janeiro pode sinalizar n...</td>\n",
       "      <td>A queda de 0,27% no Índice Geral de Preços – D...</td>\n",
       "      <td>FGV</td>\n",
       "      <td>2024-02-06-21h-03min</td>\n",
       "    </tr>\n",
       "    <tr>\n",
       "      <th>8</th>\n",
       "      <td>IGP-DI de janeiro tem deflação de 0,27% em jan...</td>\n",
       "      <td>Queda veio após uma aceleração do indicador em...</td>\n",
       "      <td>Business</td>\n",
       "      <td>Infomoney</td>\n",
       "      <td>https://www.infomoney.com.br/economia/igp-di-d...</td>\n",
       "      <td>2024-02-06 11:49:00</td>\n",
       "      <td>Business</td>\n",
       "      <td>Queda veio após uma aceleração do indicador em...</td>\n",
       "      <td>IGP-DI de janeiro tem deflação de 0,27% em jan...</td>\n",
       "      <td>Queda veio após uma aceleração do indicador em...</td>\n",
       "      <td>FGV</td>\n",
       "      <td>2024-02-06-21h-03min</td>\n",
       "    </tr>\n",
       "    <tr>\n",
       "      <th>9</th>\n",
       "      <td>Marinha e FGV organizam primeira pós em IA par...</td>\n",
       "      <td>Esse programa visa aprimorar os conhecimentos ...</td>\n",
       "      <td>Brazil</td>\n",
       "      <td>Folha de S.Paulo on MSN.com</td>\n",
       "      <td>https://www.msn.com/pt-br/noticias/brasil/mari...</td>\n",
       "      <td>2024-02-05 20:57:00</td>\n",
       "      <td>Brazil</td>\n",
       "      <td>Esse programa visa aprimorar os conhecimentos ...</td>\n",
       "      <td>Marinha e FGV organizam primeira pós em IA par...</td>\n",
       "      <td></td>\n",
       "      <td>FGV</td>\n",
       "      <td>2024-02-06-21h-03min</td>\n",
       "    </tr>\n",
       "  </tbody>\n",
       "</table>\n",
       "</div>"
      ],
      "text/plain": [
       "                                                name  \\\n",
       "0  Polícia prende homem por instalar câmeras em t...   \n",
       "1  FGV Conhecimento e IDP promovem debates sobre ...   \n",
       "2  FGV: Mensalidades escolares e alimentos pressi...   \n",
       "3  FGV: Mão de obra mais cara detém desaceleração...   \n",
       "4  IGP-DI recua em janeiro com menor efeito sazon...   \n",
       "5  Em reunião com o Ibre/FGV, Haddad diz que Faze...   \n",
       "6  IGP-DI tem deflação de 0,27% em janeiro, puxad...   \n",
       "7  Deflação do IGP-DI em janeiro pode sinalizar n...   \n",
       "8  IGP-DI de janeiro tem deflação de 0,27% em jan...   \n",
       "9  Marinha e FGV organizam primeira pós em IA par...   \n",
       "\n",
       "                                        descriptions      about  \\\n",
       "0  Foi apreendido também material com pornografia...     Brazil   \n",
       "1  O Centro Cultural FGV, na capital fluminense, ...     Brazil   \n",
       "2  Os reajustes de mensalidades escolares e os au...   Business   \n",
       "3  A alta no custo da mão de obra na construção i...   Business   \n",
       "4  O Índice Geral de Preços-Disponibilidade Inter...   Business   \n",
       "5  Segundo ele, a reforma do IR ainda precisa de ...  Undefined   \n",
       "6  Entre os indicadores que compõem o IGP-DI, o í...   Business   \n",
       "7  Commodities mais baratas no atacado derrubaram...  Undefined   \n",
       "8  Queda veio após uma aceleração do indicador em...   Business   \n",
       "9  Esse programa visa aprimorar os conhecimentos ...     Brazil   \n",
       "\n",
       "                      provider  \\\n",
       "0                        globo   \n",
       "1           Consultor Jurídico   \n",
       "2                O POVO Online   \n",
       "3                O POVO Online   \n",
       "4                        Terra   \n",
       "5                        O Dia   \n",
       "6        Jornal Pequeno Online   \n",
       "7              Valor Economico   \n",
       "8                    Infomoney   \n",
       "9  Folha de S.Paulo on MSN.com   \n",
       "\n",
       "                                                 url       datePublished  \\\n",
       "0  https://g1.globo.com/sp/sao-paulo/noticia/2024... 2024-02-06 21:58:00   \n",
       "1  https://www.conjur.com.br/2024-fev-06/fgv-conh... 2024-02-05 21:26:00   \n",
       "2  https://www.opovo.com.br/noticias/economia/202... 2024-02-06 11:52:00   \n",
       "3  https://www.opovo.com.br/noticias/economia/202... 2024-02-06 12:37:00   \n",
       "4  https://www.terra.com.br/economia/igp-di-recua... 2024-02-06 11:19:00   \n",
       "5  https://odia.ig.com.br/economia/2024/02/678797... 2024-02-05 21:30:00   \n",
       "6  https://jornalpequeno.com.br/2024/02/06/igp-di... 2024-02-06 12:22:00   \n",
       "7  https://valor.globo.com/brasil/noticia/2024/02... 2024-02-06 13:10:00   \n",
       "8  https://www.infomoney.com.br/economia/igp-di-d... 2024-02-06 11:49:00   \n",
       "9  https://www.msn.com/pt-br/noticias/brasil/mari... 2024-02-05 20:57:00   \n",
       "\n",
       "    category                                   descriptions_raw  \\\n",
       "0     Brazil  Foi apreendido também material com pornografia...   \n",
       "1     Brazil  O Centro Cultural FGV, na capital fluminense, ...   \n",
       "2   Business  Os reajustes de mensalidades escolares e os au...   \n",
       "3   Business  A alta no custo da mão de obra na construção i...   \n",
       "4   Business  O Índice Geral de Preços-Disponibilidade Inter...   \n",
       "5  Undefined  Segundo ele, a reforma do IR ainda precisa de ...   \n",
       "6   Business  Entre os indicadores que compõem o IGP-DI, o í...   \n",
       "7  Undefined  Commodities mais baratas no atacado derrubaram...   \n",
       "8   Business  Queda veio após uma aceleração do indicador em...   \n",
       "9     Brazil  Esse programa visa aprimorar os conhecimentos ...   \n",
       "\n",
       "                                            name_raw  \\\n",
       "0  Polícia prende homem por instalar câmeras em t...   \n",
       "1  FGV Conhecimento e IDP promovem debates sobre ...   \n",
       "2  FGV: Mensalidades escolares e alimentos pressi...   \n",
       "3  FGV: Mão de obra mais cara detém desaceleração...   \n",
       "4  IGP-DI recua em janeiro com menor efeito sazon...   \n",
       "5  Em reunião com o Ibre/FGV, Haddad diz que Faze...   \n",
       "6  IGP-DI tem deflação de 0,27% em janeiro, puxad...   \n",
       "7  Deflação do IGP-DI em janeiro pode sinalizar n...   \n",
       "8  IGP-DI de janeiro tem deflação de 0,27% em jan...   \n",
       "9  Marinha e FGV organizam primeira pós em IA par...   \n",
       "\n",
       "                                           full_text  key  \\\n",
       "0  Polícia prende homem por instalar câmeras em t...  FGV   \n",
       "1  Estúdio ConJur FGV Conhecimento e IDP promovem...  FGV   \n",
       "2  Os reajustes de mensalidades escolares e os au...  FGV   \n",
       "3  A alta no custo da mão de obra na construção i...  FGV   \n",
       "4  IGP-DI recua em janeiro com menor efeito sazon...  FGV   \n",
       "5  Ministro da Fazenda, Fernando Haddad - Valter ...  FGV   \n",
       "6  O Índice Geral de Preços – Disponibilidade Int...  FGV   \n",
       "7  A queda de 0,27% no Índice Geral de Preços – D...  FGV   \n",
       "8  Queda veio após uma aceleração do indicador em...  FGV   \n",
       "9                                                     FGV   \n",
       "\n",
       "          data_de_busca  \n",
       "0  2024-02-06-21h-03min  \n",
       "1  2024-02-06-21h-03min  \n",
       "2  2024-02-06-21h-03min  \n",
       "3  2024-02-06-21h-03min  \n",
       "4  2024-02-06-21h-03min  \n",
       "5  2024-02-06-21h-03min  \n",
       "6  2024-02-06-21h-03min  \n",
       "7  2024-02-06-21h-03min  \n",
       "8  2024-02-06-21h-03min  \n",
       "9  2024-02-06-21h-03min  "
      ]
     },
     "execution_count": 8,
     "metadata": {},
     "output_type": "execute_result"
    }
   ],
   "source": [
    "df_result2"
   ]
  },
  {
   "cell_type": "markdown",
   "metadata": {},
   "source": [
    "* caso: ['ABEV3','Ambev']\n",
    "\n",
    "> 'ABEV3': traz reviews do mercado financeiro \n",
    "\n",
    "> 'Ambev': traz notícias irrelevantes envolvendo a empresa\n",
    "\n",
    "> mesmo diferenciando pela busca, pelo o que parece aumentar o número de notícias faz com que a relevancia abaixe"
   ]
  },
  {
   "cell_type": "markdown",
   "metadata": {},
   "source": [
    "- Arezzo co\n",
    "\n",
    "> nesse caso foi mais relevante pesquisar por 'AREZO CO' do que ao invés de 'ARZZ3', 'AREZO'\n",
    "> 'ARZZ3': retorna análises de sites de investimento \n",
    "> 'AREZO': retorna menos resultados e um deles foi propaganda"
   ]
  },
  {
   "cell_type": "markdown",
   "metadata": {},
   "source": [
    ">tickt: nome fantasia: razão social: variação do nome fantasia "
   ]
  },
  {
   "cell_type": "markdown",
   "metadata": {},
   "source": [
    "* SNSY3\n",
    "\n",
    "> ['Sansuy SA','Sansuy', 'SNSY3'] retornou nenhuma notícia no dia de hoje"
   ]
  },
  {
   "cell_type": "markdown",
   "metadata": {},
   "source": [
    "* FRIO3\n",
    "\n",
    "> não retornou nada"
   ]
  },
  {
   "cell_type": "markdown",
   "metadata": {},
   "source": [
    "--------------"
   ]
  },
  {
   "cell_type": "markdown",
   "metadata": {},
   "source": [
    "# blob storage "
   ]
  },
  {
   "cell_type": "code",
   "execution_count": 1,
   "metadata": {},
   "outputs": [],
   "source": [
    "import os, uuid\n",
    "from azure.identity import DefaultAzureCredential\n",
    "from azure.storage.blob import BlobServiceClient, BlobClient, ContainerClient"
   ]
  },
  {
   "cell_type": "code",
   "execution_count": 4,
   "metadata": {},
   "outputs": [],
   "source": [
    "def blob_send_itens(local_file_name):\n",
    "    try:\n",
    "        print(\"Azure Blob Storage Python\")\n",
    "\n",
    "        account_url = \"https://armazenamentonews.blob.core.windows.net\"\n",
    "        default_credential = DefaultAzureCredential()\n",
    "\n",
    "        # Create the BlobServiceClient object\n",
    "        blob_service_client = BlobServiceClient(account_url, credential=default_credential)\n",
    "\n",
    "        # Create a file in the local data directory to upload and download\n",
    "        container_name = 'arquivos'\n",
    "        local_path = 'upload_file'\n",
    "        # local_file_name = 'result_2024-01-13.parquet'\n",
    "        upload_file_path = os.path.join(local_path, local_file_name)\n",
    "\n",
    "        # Create a blob client using the local file name as the name for the blob\n",
    "        blob_client = blob_service_client.get_blob_client(container=container_name, blob=local_file_name)\n",
    "\n",
    "        print(\"\\nUploading to Azure Storage as blob:\\n\\t\" + local_file_name)\n",
    "\n",
    "        # Upload the created file\n",
    "        with open(file=upload_file_path, mode=\"rb\") as data:\n",
    "            blob_client.upload_blob(data)\n",
    "        return f'done:{local_file_name}'\n",
    "    \n",
    "    except Exception as ex:    \n",
    "        result =  f'Exception:{ex}' \n",
    "        print(result)\n",
    "        return result "
   ]
  },
  {
   "cell_type": "code",
   "execution_count": null,
   "metadata": {},
   "outputs": [],
   "source": [
    "item_sent = blob_send_itens('result_2024-01-13.parquet')"
   ]
  },
  {
   "cell_type": "code",
   "execution_count": 6,
   "metadata": {},
   "outputs": [],
   "source": [
    "import pytz\n",
    "from datetime import datetime\n",
    "\n",
    "utc_minus_3 = pytz.timezone('Etc/GMT+3')\n",
    "\n",
    "today = datetime.now(utc_minus_3).strftime('%Y-%m-%d-%Hh-%Mmin')"
   ]
  },
  {
   "cell_type": "code",
   "execution_count": 7,
   "metadata": {},
   "outputs": [
    {
     "data": {
      "text/plain": [
       "'2024-02-04-11h-44min'"
      ]
     },
     "execution_count": 7,
     "metadata": {},
     "output_type": "execute_result"
    }
   ],
   "source": [
    "today"
   ]
  }
 ],
 "metadata": {
  "kernelspec": {
   "display_name": ".venv",
   "language": "python",
   "name": "python3"
  },
  "language_info": {
   "codemirror_mode": {
    "name": "ipython",
    "version": 3
   },
   "file_extension": ".py",
   "mimetype": "text/x-python",
   "name": "python",
   "nbconvert_exporter": "python",
   "pygments_lexer": "ipython3",
   "version": "3.12.1"
  },
  "orig_nbformat": 4
 },
 "nbformat": 4,
 "nbformat_minor": 2
}
