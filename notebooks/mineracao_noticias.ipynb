{
 "cells": [
  {
   "cell_type": "markdown",
   "metadata": {},
   "source": [
    "# Objetivo:"
   ]
  },
  {
   "cell_type": "markdown",
   "metadata": {},
   "source": [
    "Criar código para que seja possível definir um ticket/empresa listada na bolsa e ser retornado todas as notícias relacionadas"
   ]
  },
  {
   "cell_type": "markdown",
   "metadata": {},
   "source": [
    "as notícias devem conter:\n",
    "* título\n",
    "* data\n",
    "* meio de comunicação\n",
    "* conteúdo textual"
   ]
  },
  {
   "cell_type": "code",
   "execution_count": 1,
   "metadata": {},
   "outputs": [],
   "source": [
    "# criar código para extrair o texto diretamente do link"
   ]
  },
  {
   "cell_type": "markdown",
   "metadata": {},
   "source": [
    "Considerações \n",
    "\n",
    "    - ordenação por ordem de publicação\n",
    "    - os links não funcionam\n",
    "    - funciona melhor em ingles: data vem corretamente"
   ]
  },
  {
   "cell_type": "markdown",
   "metadata": {},
   "source": [
    "## Bing news"
   ]
  },
  {
   "cell_type": "markdown",
   "metadata": {},
   "source": [
    "### API Method"
   ]
  },
  {
   "cell_type": "markdown",
   "metadata": {},
   "source": [
    "* METODO REQUEST"
   ]
  },
  {
   "cell_type": "markdown",
   "metadata": {},
   "source": [
    "https://learn.microsoft.com/en-us/bing/search-apis/bing-news-search/reference/query-parameters\n",
    "\n",
    "\n",
    "https://www.microsoft.com/en-us/bing/apis/pricing"
   ]
  },
  {
   "cell_type": "code",
   "execution_count": 1,
   "metadata": {},
   "outputs": [],
   "source": [
    "import os\n",
    "os.chdir('C:\\\\Users\\\\Vinim\\\\Documents\\\\github\\\\tcc_vinicius')\n"
   ]
  },
  {
   "cell_type": "code",
   "execution_count": 2,
   "metadata": {},
   "outputs": [],
   "source": [
    "import deployed_azure.bing_search as bing\n",
    "import pandas as pd\n",
    "import deployed_azure.util as util\n",
    "from datetime import datetime "
   ]
  },
  {
   "cell_type": "code",
   "execution_count": 3,
   "metadata": {},
   "outputs": [],
   "source": [
    "def process_search(searches, result_count, period=\"day\"):\n",
    "    dfs = []\n",
    "    today = datetime.today().strftime('%Y-%m-%d-%Hh-%Mmin')\n",
    "    for search_term in searches:\n",
    "        result = bing.search_news(search_term, result_count, period)\n",
    "        result['full_text'] = result['url'].apply(util.extract_url_content)\n",
    "        result['key'] = search_term\n",
    "        result['data_de_busca'] = today\n",
    "        dfs.append(result)\n",
    "        \n",
    "    dfs_result = pd.concat(dfs) \n",
    "    return dfs_result"
   ]
  },
  {
   "cell_type": "code",
   "execution_count": 4,
   "metadata": {},
   "outputs": [],
   "source": [
    "searches = [\n",
    "    \"PETR4\", \"Petrobras\", \"PETROLEO BRASILEIRO S A PETROBRAS\",\n",
    "    \"VALE3\", \"Vale\", \"VALE S.A.\",\n",
    "    \"ITUB4\", \"Itaú Unibanco\", \"ITAU UNIBANCO HOLDING S.A.\",\n",
    "    \"ABEV3\", \"Ambev\", \"AMBEV S.A.\",\n",
    "    \"WEGE3\", \"WEG\", \"WEG SA\",\n",
    "    \"BBDC4\", \"Banco Bradesco\", \"BANCO BRADESCO S.A.\",\n",
    "    \"BBAS3\", \"Banco do Brasil\", \"BANCO DO BRASIL SA\",\n",
    "    \"BPAC11\", \"Banco BTG Pactual\", \"BANCO BTG PACTUAL S.A.\",\n",
    "    \"SANB3\", \"Banco Santander\", \"BANCO SANTANDER (BRASIL) S.A.\",\n",
    "    \"ITSA4\", \"Itaúsa\", \"ITAUSA S.A.\"\n",
    "    ]\n",
    "df_result = process_search(searches,10)\n",
    "today = datetime.today().strftime('%Y-%m-%d')\n",
    "# df_result.to_parquet(f'data//result_{today}.parquet')"
   ]
  },
  {
   "cell_type": "code",
   "execution_count": 5,
   "metadata": {},
   "outputs": [],
   "source": [
    "name = f'data//result_{today}.parquet'\n",
    "df_result.to_parquet(name)"
   ]
  },
  {
   "cell_type": "markdown",
   "metadata": {},
   "source": []
  },
  {
   "cell_type": "markdown",
   "metadata": {},
   "source": [
    "* caso: ['ABEV3','Ambev']\n",
    "\n",
    "> 'ABEV3': traz reviews do mercado financeiro \n",
    "\n",
    "> 'Ambev': traz notícias irrelevantes envolvendo a empresa\n",
    "\n",
    "> mesmo diferenciando pela busca, pelo o que parece aumentar o número de notícias faz com que a relevancia abaixe"
   ]
  },
  {
   "cell_type": "markdown",
   "metadata": {},
   "source": [
    "- Arezzo co\n",
    "\n",
    "> nesse caso foi mais relevante pesquisar por 'AREZO CO' do que ao invés de 'ARZZ3', 'AREZO'\n",
    "> 'ARZZ3': retorna análises de sites de investimento \n",
    "> 'AREZO': retorna menos resultados e um deles foi propaganda"
   ]
  },
  {
   "cell_type": "markdown",
   "metadata": {},
   "source": [
    ">tickt: nome fantasia: razão social: variação do nome fantasia "
   ]
  },
  {
   "cell_type": "markdown",
   "metadata": {},
   "source": [
    "* SNSY3\n",
    "\n",
    "> ['Sansuy SA','Sansuy', 'SNSY3'] retornou nenhuma notícia no dia de hoje"
   ]
  },
  {
   "cell_type": "markdown",
   "metadata": {},
   "source": [
    "* FRIO3\n",
    "\n",
    "> não retornou nada"
   ]
  },
  {
   "cell_type": "markdown",
   "metadata": {},
   "source": [
    "--------------"
   ]
  },
  {
   "cell_type": "markdown",
   "metadata": {},
   "source": [
    "# blob storage "
   ]
  },
  {
   "cell_type": "code",
   "execution_count": 6,
   "metadata": {},
   "outputs": [],
   "source": [
    "import os, uuid\n",
    "from azure.identity import DefaultAzureCredential\n",
    "from azure.storage.blob import BlobServiceClient, BlobClient, ContainerClient"
   ]
  },
  {
   "cell_type": "code",
   "execution_count": 7,
   "metadata": {},
   "outputs": [],
   "source": [
    "def blob_send_itens(local_file_name):\n",
    "    try:\n",
    "        print(\"Azure Blob Storage Python\")\n",
    "\n",
    "        account_url = \"https://appstocknewsprediction.blob.core.windows.net\"\n",
    "        default_credential = DefaultAzureCredential()\n",
    "\n",
    "        # Create the BlobServiceClient object\n",
    "        blob_service_client = BlobServiceClient(account_url, credential=default_credential)\n",
    "\n",
    "        # Create a file in the local data directory to upload and download\n",
    "        container_name = 'result-function-stocknews'\n",
    "        local_path = 'data'\n",
    "        # local_file_name = 'result_2024-01-13.parquet'\n",
    "        upload_file_path = os.path.join(local_path, local_file_name)\n",
    "\n",
    "        # Create a blob client using the local file name as the name for the blob\n",
    "        blob_client = blob_service_client.get_blob_client(container=container_name, blob=local_file_name)\n",
    "\n",
    "        print(\"\\nUploading to Azure Storage as blob:\\n\\t\" + local_file_name)\n",
    "\n",
    "        # Upload the created file\n",
    "        with open(file=upload_file_path, mode=\"rb\") as data:\n",
    "            blob_client.upload_blob(data)\n",
    "        return f'done:{local_file_name}'\n",
    "    \n",
    "    except Exception as ex:    \n",
    "        result =  f'Exception:{ex}' \n",
    "        print(result)\n",
    "        return result "
   ]
  },
  {
   "cell_type": "code",
   "execution_count": 8,
   "metadata": {},
   "outputs": [
    {
     "name": "stdout",
     "output_type": "stream",
     "text": [
      "Azure Blob Storage Python\n",
      "\n",
      "Uploading to Azure Storage as blob:\n",
      "\tdata//result_2024-02-26.parquet\n",
      "Exception:[Errno 2] No such file or directory: 'data\\\\data//result_2024-02-26.parquet'\n"
     ]
    }
   ],
   "source": [
    "item_sent = blob_send_itens(name)"
   ]
  },
  {
   "cell_type": "code",
   "execution_count": 9,
   "metadata": {},
   "outputs": [],
   "source": [
    "import pytz\n",
    "from datetime import datetime\n",
    "\n",
    "utc_minus_3 = pytz.timezone('Etc/GMT+3')\n",
    "\n",
    "today = datetime.now(utc_minus_3).strftime('%Y-%m-%d-%Hh-%Mmin')"
   ]
  },
  {
   "cell_type": "code",
   "execution_count": 10,
   "metadata": {},
   "outputs": [
    {
     "data": {
      "text/plain": [
       "'2024-02-26-19h-52min'"
      ]
     },
     "execution_count": 10,
     "metadata": {},
     "output_type": "execute_result"
    }
   ],
   "source": [
    "today"
   ]
  }
 ],
 "metadata": {
  "kernelspec": {
   "display_name": ".venv",
   "language": "python",
   "name": "python3"
  },
  "language_info": {
   "codemirror_mode": {
    "name": "ipython",
    "version": 3
   },
   "file_extension": ".py",
   "mimetype": "text/x-python",
   "name": "python",
   "nbconvert_exporter": "python",
   "pygments_lexer": "ipython3",
   "version": "3.12.1"
  },
  "orig_nbformat": 4
 },
 "nbformat": 4,
 "nbformat_minor": 2
}
