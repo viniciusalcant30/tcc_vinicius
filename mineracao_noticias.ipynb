{
 "cells": [
  {
   "cell_type": "markdown",
   "metadata": {},
   "source": [
    "# Objetivo:"
   ]
  },
  {
   "cell_type": "markdown",
   "metadata": {},
   "source": [
    "Criar código para que seja possível definir um ticket/empresa listada na bolsa e ser retornado todas as notícias relacionadas"
   ]
  },
  {
   "cell_type": "markdown",
   "metadata": {},
   "source": [
    "as notícias devem conter:\n",
    "* título\n",
    "* data\n",
    "* meio de comunicação\n",
    "* conteúdo textual"
   ]
  },
  {
   "cell_type": "markdown",
   "metadata": {},
   "source": [
    "**possíveis ferramentas**\n",
    "\n",
    "* GoogleNews api \n",
    "* Bloomberg api\n",
    "* Bing News api \n",
    "* fazer web scrapping diretamente no site "
   ]
  },
  {
   "cell_type": "markdown",
   "metadata": {},
   "source": [
    "## Google API"
   ]
  },
  {
   "cell_type": "markdown",
   "metadata": {},
   "source": [
    "**links**\n",
    "\n",
    "\n",
    "https://medium.com/analytics-vidhya/googlenews-api-live-news-from-google-news-using-python-b50272f0a8f0\n",
    "\n",
    "\n",
    "-----------------------------------------------------------"
   ]
  },
  {
   "cell_type": "markdown",
   "metadata": {},
   "source": [
    "Considerações \n",
    "\n",
    "    - ordenação por ordem de publicação\n",
    "    - os links não funcionam\n",
    "    - funciona melhor em ingles: data vem corretamente"
   ]
  },
  {
   "cell_type": "code",
   "execution_count": 15,
   "metadata": {},
   "outputs": [],
   "source": [
    "from GoogleNews import GoogleNews \n",
    "import pandas as pd"
   ]
  },
  {
   "cell_type": "code",
   "execution_count": 16,
   "metadata": {},
   "outputs": [],
   "source": [
    "# googlenews = GoogleNews()\n",
    "googlenews = GoogleNews(period='m', lang='pt', region='BR')\n",
    "# googlenews=GoogleNews(start='08/01/2020',end='08/31/2020')\n",
    "\n",
    "#googlenews.set_lang('pt')\n",
    "googlenews.search('petrobras')"
   ]
  },
  {
   "cell_type": "code",
   "execution_count": 17,
   "metadata": {},
   "outputs": [],
   "source": [
    "df_gnews = pd.DataFrame(googlenews.page_at(10))"
   ]
  },
  {
   "cell_type": "code",
   "execution_count": 18,
   "metadata": {},
   "outputs": [],
   "source": [
    "for i in range(2,20):\n",
    "    googlenews.getpage(i)\n",
    "    result=googlenews.result()\n",
    "    \n",
    "df_gnews=pd.DataFrame(result)"
   ]
  },
  {
   "cell_type": "code",
   "execution_count": 19,
   "metadata": {},
   "outputs": [
    {
     "data": {
      "text/html": [
       "<div>\n",
       "<style scoped>\n",
       "    .dataframe tbody tr th:only-of-type {\n",
       "        vertical-align: middle;\n",
       "    }\n",
       "\n",
       "    .dataframe tbody tr th {\n",
       "        vertical-align: top;\n",
       "    }\n",
       "\n",
       "    .dataframe thead th {\n",
       "        text-align: right;\n",
       "    }\n",
       "</style>\n",
       "<table border=\"1\" class=\"dataframe\">\n",
       "  <thead>\n",
       "    <tr style=\"text-align: right;\">\n",
       "      <th></th>\n",
       "      <th>title</th>\n",
       "      <th>media</th>\n",
       "      <th>date</th>\n",
       "      <th>datetime</th>\n",
       "      <th>desc</th>\n",
       "      <th>link</th>\n",
       "      <th>img</th>\n",
       "    </tr>\n",
       "  </thead>\n",
       "  <tbody>\n",
       "    <tr>\n",
       "      <th>0</th>\n",
       "      <td>Petrobras reduz gasolina em 4% e aumenta diese...</td>\n",
       "      <td>Terra</td>\n",
       "      <td>á 1 minuto</td>\n",
       "      <td>NaN</td>\n",
       "      <td></td>\n",
       "      <td>https://www.terra.com.br/economia/dinheiro-em-...</td>\n",
       "      <td>data:image/gif;base64,R0lGODlhAQABAIAAAP//////...</td>\n",
       "    </tr>\n",
       "    <tr>\n",
       "      <th>1</th>\n",
       "      <td>Petrobras anuncia redução no preço da gasolina...</td>\n",
       "      <td>Folha PE</td>\n",
       "      <td>á 2 minutos</td>\n",
       "      <td>NaN</td>\n",
       "      <td></td>\n",
       "      <td>https://www.folhape.com.br/economia/petrobras-...</td>\n",
       "      <td>data:image/gif;base64,R0lGODlhAQABAIAAAP//////...</td>\n",
       "    </tr>\n",
       "    <tr>\n",
       "      <th>2</th>\n",
       "      <td>Fim de sanções faz Petrobras 'pensar seriament...</td>\n",
       "      <td>Política Livre</td>\n",
       "      <td>á 4 minutos</td>\n",
       "      <td>NaN</td>\n",
       "      <td></td>\n",
       "      <td>https://politicalivre.com.br/2023/10/fim-de-sa...</td>\n",
       "      <td></td>\n",
       "    </tr>\n",
       "    <tr>\n",
       "      <th>3</th>\n",
       "      <td>Petrobras (PETR4) reduz preço da gasolina e el...</td>\n",
       "      <td>Valor Investe</td>\n",
       "      <td>á 5 minutos</td>\n",
       "      <td>NaN</td>\n",
       "      <td></td>\n",
       "      <td>https://valorinveste.globo.com/mercados/renda-...</td>\n",
       "      <td>data:image/gif;base64,R0lGODlhAQABAIAAAP//////...</td>\n",
       "    </tr>\n",
       "    <tr>\n",
       "      <th>4</th>\n",
       "      <td>Petrobras ajusta preços da gasolina e do diesel</td>\n",
       "      <td>JC Online</td>\n",
       "      <td>á 6 minutos</td>\n",
       "      <td>NaN</td>\n",
       "      <td></td>\n",
       "      <td>https://jc.ne10.uol.com.br/economia/2023/10/15...</td>\n",
       "      <td>data:image/gif;base64,R0lGODlhAQABAIAAAP//////...</td>\n",
       "    </tr>\n",
       "    <tr>\n",
       "      <th>...</th>\n",
       "      <td>...</td>\n",
       "      <td>...</td>\n",
       "      <td>...</td>\n",
       "      <td>...</td>\n",
       "      <td>...</td>\n",
       "      <td>...</td>\n",
       "      <td>...</td>\n",
       "    </tr>\n",
       "    <tr>\n",
       "      <th>185</th>\n",
       "      <td>Prates critica \"aquarela\" do hidrogênio e defe...</td>\n",
       "      <td>EPBR</td>\n",
       "      <td>á 6 dias</td>\n",
       "      <td>NaN</td>\n",
       "      <td></td>\n",
       "      <td>https://epbr.com.br/prates-defende-anp-como-re...</td>\n",
       "      <td>data:image/gif;base64,R0lGODlhAQABAIAAAP//////...</td>\n",
       "    </tr>\n",
       "    <tr>\n",
       "      <th>186</th>\n",
       "      <td>CEO da Petrobras (PETR4) volta a defender que ...</td>\n",
       "      <td>InfoMoney</td>\n",
       "      <td>á 6 dias</td>\n",
       "      <td>NaN</td>\n",
       "      <td></td>\n",
       "      <td>https://www.infomoney.com.br/mercados/ceo-da-p...</td>\n",
       "      <td>data:image/gif;base64,R0lGODlhAQABAIAAAP//////...</td>\n",
       "    </tr>\n",
       "    <tr>\n",
       "      <th>187</th>\n",
       "      <td>Ibovespa: Petrobras (PETR4) e 3R Petroleum (RR...</td>\n",
       "      <td>Money Times</td>\n",
       "      <td>á 6 dias</td>\n",
       "      <td>NaN</td>\n",
       "      <td></td>\n",
       "      <td>https://www.moneytimes.com.br/ibovespa-petrobr...</td>\n",
       "      <td>data:image/gif;base64,R0lGODlhAQABAIAAAP//////...</td>\n",
       "    </tr>\n",
       "    <tr>\n",
       "      <th>188</th>\n",
       "      <td>Petrobras (PETR4) e petroleiras privadas sobem...</td>\n",
       "      <td>Suno</td>\n",
       "      <td>á 6 dias</td>\n",
       "      <td>NaN</td>\n",
       "      <td></td>\n",
       "      <td>https://www.suno.com.br/noticias/petrobras-pet...</td>\n",
       "      <td>data:image/gif;base64,R0lGODlhAQABAIAAAP//////...</td>\n",
       "    </tr>\n",
       "    <tr>\n",
       "      <th>189</th>\n",
       "      <td>Ações da Vale (VALE3), Petrobras (PETR4) e Ita...</td>\n",
       "      <td>BM&amp;C NEWS</td>\n",
       "      <td>á 6 dias</td>\n",
       "      <td>NaN</td>\n",
       "      <td></td>\n",
       "      <td>https://bmcnews.com.br/2023/10/13/acoes-da-val...</td>\n",
       "      <td>data:image/gif;base64,R0lGODlhAQABAIAAAP//////...</td>\n",
       "    </tr>\n",
       "  </tbody>\n",
       "</table>\n",
       "<p>190 rows × 7 columns</p>\n",
       "</div>"
      ],
      "text/plain": [
       "                                                 title           media  \\\n",
       "0    Petrobras reduz gasolina em 4% e aumenta diese...           Terra   \n",
       "1    Petrobras anuncia redução no preço da gasolina...        Folha PE   \n",
       "2    Fim de sanções faz Petrobras 'pensar seriament...  Política Livre   \n",
       "3    Petrobras (PETR4) reduz preço da gasolina e el...   Valor Investe   \n",
       "4      Petrobras ajusta preços da gasolina e do diesel       JC Online   \n",
       "..                                                 ...             ...   \n",
       "185  Prates critica \"aquarela\" do hidrogênio e defe...            EPBR   \n",
       "186  CEO da Petrobras (PETR4) volta a defender que ...       InfoMoney   \n",
       "187  Ibovespa: Petrobras (PETR4) e 3R Petroleum (RR...     Money Times   \n",
       "188  Petrobras (PETR4) e petroleiras privadas sobem...            Suno   \n",
       "189  Ações da Vale (VALE3), Petrobras (PETR4) e Ita...       BM&C NEWS   \n",
       "\n",
       "            date  datetime desc  \\\n",
       "0     á 1 minuto       NaN        \n",
       "1    á 2 minutos       NaN        \n",
       "2    á 4 minutos       NaN        \n",
       "3    á 5 minutos       NaN        \n",
       "4    á 6 minutos       NaN        \n",
       "..           ...       ...  ...   \n",
       "185     á 6 dias       NaN        \n",
       "186     á 6 dias       NaN        \n",
       "187     á 6 dias       NaN        \n",
       "188     á 6 dias       NaN        \n",
       "189     á 6 dias       NaN        \n",
       "\n",
       "                                                  link  \\\n",
       "0    https://www.terra.com.br/economia/dinheiro-em-...   \n",
       "1    https://www.folhape.com.br/economia/petrobras-...   \n",
       "2    https://politicalivre.com.br/2023/10/fim-de-sa...   \n",
       "3    https://valorinveste.globo.com/mercados/renda-...   \n",
       "4    https://jc.ne10.uol.com.br/economia/2023/10/15...   \n",
       "..                                                 ...   \n",
       "185  https://epbr.com.br/prates-defende-anp-como-re...   \n",
       "186  https://www.infomoney.com.br/mercados/ceo-da-p...   \n",
       "187  https://www.moneytimes.com.br/ibovespa-petrobr...   \n",
       "188  https://www.suno.com.br/noticias/petrobras-pet...   \n",
       "189  https://bmcnews.com.br/2023/10/13/acoes-da-val...   \n",
       "\n",
       "                                                   img  \n",
       "0    data:image/gif;base64,R0lGODlhAQABAIAAAP//////...  \n",
       "1    data:image/gif;base64,R0lGODlhAQABAIAAAP//////...  \n",
       "2                                                       \n",
       "3    data:image/gif;base64,R0lGODlhAQABAIAAAP//////...  \n",
       "4    data:image/gif;base64,R0lGODlhAQABAIAAAP//////...  \n",
       "..                                                 ...  \n",
       "185  data:image/gif;base64,R0lGODlhAQABAIAAAP//////...  \n",
       "186  data:image/gif;base64,R0lGODlhAQABAIAAAP//////...  \n",
       "187  data:image/gif;base64,R0lGODlhAQABAIAAAP//////...  \n",
       "188  data:image/gif;base64,R0lGODlhAQABAIAAAP//////...  \n",
       "189  data:image/gif;base64,R0lGODlhAQABAIAAAP//////...  \n",
       "\n",
       "[190 rows x 7 columns]"
      ]
     },
     "execution_count": 19,
     "metadata": {},
     "output_type": "execute_result"
    }
   ],
   "source": [
    "df_gnews"
   ]
  },
  {
   "cell_type": "markdown",
   "metadata": {},
   "source": [
    "## Bloomberg API"
   ]
  },
  {
   "cell_type": "markdown",
   "metadata": {},
   "source": [
    "**links**\n",
    "\n",
    "https://www.bloomberg.com/professional/support/api-library/\n",
    "\n",
    "https://saturncloud.io/blog/how-to-store-data-from-the-bloomberg-api-into-a-pandas-dataframe/"
   ]
  },
  {
   "cell_type": "markdown",
   "metadata": {},
   "source": [
    "**considerações**\n",
    "\n",
    "    - a api não serve para notícias\n",
    "\n",
    "pip install --index-url=https://bcms.bloomberg.com/pip/simple blpapi"
   ]
  },
  {
   "cell_type": "code",
   "execution_count": null,
   "metadata": {},
   "outputs": [],
   "source": [
    "import blpapi\n",
    "\n",
    "# Start a session\n",
    "sessionOptions = blpapi.SessionOptions()\n",
    "session = blpapi.Session(sessionOptions)\n",
    "session.start()\n",
    "\n",
    "# Open a service\n",
    "if not session.openService(\"//blp/refdata\"):\n",
    "    print(\"Failed to open //blp/refdata\")\n",
    "\n",
    "refDataService = session.getService(\"//blp/refdata\")\n",
    "\n",
    "# Create a request\n",
    "request = refDataService.createRequest(\"ReferenceDataRequest\")\n",
    "\n",
    "# Add securities to request\n",
    "request.append(\"securities\", \"AAPL US Equity\")\n",
    "\n",
    "# Add fields to request\n",
    "request.append(\"fields\", \"LAST_PRICE\")\n",
    "\n",
    "# Send request\n",
    "session.sendRequest(request)\n",
    "\n",
    "# Process response\n",
    "while True:\n",
    "    event = session.nextEvent()\n",
    "    for msg in event:\n",
    "        print(msg)\n",
    "    if event.eventType() == blpapi.Event.RESPONSE:\n",
    "        break\n",
    "\n",
    "# Stop the session\n",
    "session.stop()"
   ]
  },
  {
   "cell_type": "markdown",
   "metadata": {},
   "source": [
    "## Bing news"
   ]
  },
  {
   "cell_type": "markdown",
   "metadata": {},
   "source": [
    "**link** \n",
    "\n",
    "https://learn.microsoft.com/en-us/azure/cognitive-services/bing-news-search/python\n",
    "\n",
    "https://learn.microsoft.com/en-us/bing/search-apis/bing-news-search/overview"
   ]
  },
  {
   "cell_type": "markdown",
   "metadata": {},
   "source": [
    "possível fazer por **api/request** ou **client library**\n",
    "\n",
    "* **api/request**: https://learn.microsoft.com/en-us/bing/search-apis/bing-news-search/quickstarts/rest/python\n",
    "\n",
    "* **client library**: https://learn.microsoft.com/en-us/bing/search-apis/bing-news-search/quickstarts/sdk/news-search-client-library-python"
   ]
  },
  {
   "cell_type": "code",
   "execution_count": 4,
   "metadata": {},
   "outputs": [],
   "source": [
    "import os\n",
    "from dotenv import load_dotenv\n",
    "\n",
    "load_dotenv()\n",
    "\n",
    "AZURE_SUBSCRIPTION_KEY = os.environ.get('AZURE_SUBSCRIPTION_KEY')\n",
    "AZURE_SUBSCRIPTION_KEY2 = os.environ.get('AZURE_SUBSCRIPTION_KEY2')\n",
    "AZURE_ENDPOINT = os.environ.get('AZURE_ENDPOINT')"
   ]
  },
  {
   "cell_type": "markdown",
   "metadata": {},
   "source": [
    "### client library"
   ]
  },
  {
   "cell_type": "markdown",
   "metadata": {},
   "source": [
    "* Create a new Python file in your favorite IDE or editor, and import the following libraries. Create a variable for your subscription key, and your search term."
   ]
  },
  {
   "cell_type": "code",
   "execution_count": 58,
   "metadata": {},
   "outputs": [],
   "source": [
    "from azure.cognitiveservices.search.newssearch import NewsSearchClient\n",
    "from msrest.authentication import CognitiveServicesCredentials\n",
    "\n",
    "search_term = \"Brasil\""
   ]
  },
  {
   "cell_type": "markdown",
   "metadata": {},
   "source": [
    "* Initialize the client and send a request"
   ]
  },
  {
   "cell_type": "code",
   "execution_count": 86,
   "metadata": {},
   "outputs": [
    {
     "ename": "ErrorResponseException",
     "evalue": "Operation returned an invalid status code 'Resource Not Found'",
     "output_type": "error",
     "traceback": [
      "\u001b[1;31m---------------------------------------------------------------------------\u001b[0m",
      "\u001b[1;31mErrorResponseException\u001b[0m                    Traceback (most recent call last)",
      "\u001b[1;32mc:\\Users\\Vinícius A\\Documents\\GitHub\\tcc_vinicius\\mineracao_noticias.ipynb Cell 24\u001b[0m line \u001b[0;36m3\n\u001b[0;32m      <a href='vscode-notebook-cell:/c%3A/Users/Vin%C3%ADcius%20A/Documents/GitHub/tcc_vinicius/mineracao_noticias.ipynb#X23sZmlsZQ%3D%3D?line=0'>1</a>\u001b[0m client \u001b[39m=\u001b[39m NewsSearchClient(endpoint\u001b[39m=\u001b[39mendpoint, credentials\u001b[39m=\u001b[39mCognitiveServicesCredentials(subscription_key))\n\u001b[1;32m----> <a href='vscode-notebook-cell:/c%3A/Users/Vin%C3%ADcius%20A/Documents/GitHub/tcc_vinicius/mineracao_noticias.ipynb#X23sZmlsZQ%3D%3D?line=2'>3</a>\u001b[0m news_result \u001b[39m=\u001b[39m client\u001b[39m.\u001b[39;49mnews\u001b[39m.\u001b[39;49msearch(\u001b[39m'\u001b[39;49m\u001b[39mbrasil\u001b[39;49m\u001b[39m'\u001b[39;49m, market\u001b[39m=\u001b[39;49m\u001b[39m\"\u001b[39;49m\u001b[39mpt-BR\u001b[39;49m\u001b[39m\"\u001b[39;49m)\n",
      "File \u001b[1;32mc:\\Users\\Vinícius A\\Documents\\GitHub\\tcc_vinicius\\.venv\\Lib\\site-packages\\azure\\cognitiveservices\\search\\newssearch\\operations\\_news_operations.py:379\u001b[0m, in \u001b[0;36mNewsOperations.search\u001b[1;34m(self, query, accept_language, user_agent, client_id, client_ip, location, country_code, count, freshness, market, offset, original_image, safe_search, set_lang, sort_by, text_decorations, text_format, custom_headers, raw, **operation_config)\u001b[0m\n\u001b[0;32m    376\u001b[0m response \u001b[39m=\u001b[39m \u001b[39mself\u001b[39m\u001b[39m.\u001b[39m_client\u001b[39m.\u001b[39msend(request, stream\u001b[39m=\u001b[39m\u001b[39mFalse\u001b[39;00m, \u001b[39m*\u001b[39m\u001b[39m*\u001b[39moperation_config)\n\u001b[0;32m    378\u001b[0m \u001b[39mif\u001b[39;00m response\u001b[39m.\u001b[39mstatus_code \u001b[39mnot\u001b[39;00m \u001b[39min\u001b[39;00m [\u001b[39m200\u001b[39m]:\n\u001b[1;32m--> 379\u001b[0m     \u001b[39mraise\u001b[39;00m models\u001b[39m.\u001b[39mErrorResponseException(\u001b[39mself\u001b[39m\u001b[39m.\u001b[39m_deserialize, response)\n\u001b[0;32m    381\u001b[0m deserialized \u001b[39m=\u001b[39m \u001b[39mNone\u001b[39;00m\n\u001b[0;32m    382\u001b[0m \u001b[39mif\u001b[39;00m response\u001b[39m.\u001b[39mstatus_code \u001b[39m==\u001b[39m \u001b[39m200\u001b[39m:\n",
      "\u001b[1;31mErrorResponseException\u001b[0m: Operation returned an invalid status code 'Resource Not Found'"
     ]
    }
   ],
   "source": [
    "client = NewsSearchClient(endpoint=AZURE_ENDPOINT, credentials=CognitiveServicesCredentials(AZURE_SUBSCRIPTION_KEY))\n",
    "\n",
    "news_result = client.news.search('brasil', market=\"pt-BR\")"
   ]
  },
  {
   "cell_type": "code",
   "execution_count": 87,
   "metadata": {},
   "outputs": [
    {
     "ename": "ErrorResponseException",
     "evalue": "Operation returned an invalid status code 'Resource Not Found'",
     "output_type": "error",
     "traceback": [
      "\u001b[1;31m---------------------------------------------------------------------------\u001b[0m",
      "\u001b[1;31mErrorResponseException\u001b[0m                    Traceback (most recent call last)",
      "\u001b[1;32mc:\\Users\\Vinícius A\\Documents\\GitHub\\tcc_vinicius\\mineracao_noticias.ipynb Cell 25\u001b[0m line \u001b[0;36m1\n\u001b[1;32m----> <a href='vscode-notebook-cell:/c%3A/Users/Vin%C3%ADcius%20A/Documents/GitHub/tcc_vinicius/mineracao_noticias.ipynb#X24sZmlsZQ%3D%3D?line=0'>1</a>\u001b[0m news_result \u001b[39m=\u001b[39m client\u001b[39m.\u001b[39;49mnews\u001b[39m.\u001b[39;49msearch(query\u001b[39m=\u001b[39;49msearch_term, market\u001b[39m=\u001b[39;49m\u001b[39m\"\u001b[39;49m\u001b[39men-US\u001b[39;49m\u001b[39m\"\u001b[39;49m, count\u001b[39m=\u001b[39;49m\u001b[39m10\u001b[39;49m)\n",
      "File \u001b[1;32mc:\\Users\\Vinícius A\\Documents\\GitHub\\tcc_vinicius\\.venv\\Lib\\site-packages\\azure\\cognitiveservices\\search\\newssearch\\operations\\_news_operations.py:379\u001b[0m, in \u001b[0;36mNewsOperations.search\u001b[1;34m(self, query, accept_language, user_agent, client_id, client_ip, location, country_code, count, freshness, market, offset, original_image, safe_search, set_lang, sort_by, text_decorations, text_format, custom_headers, raw, **operation_config)\u001b[0m\n\u001b[0;32m    376\u001b[0m response \u001b[39m=\u001b[39m \u001b[39mself\u001b[39m\u001b[39m.\u001b[39m_client\u001b[39m.\u001b[39msend(request, stream\u001b[39m=\u001b[39m\u001b[39mFalse\u001b[39;00m, \u001b[39m*\u001b[39m\u001b[39m*\u001b[39moperation_config)\n\u001b[0;32m    378\u001b[0m \u001b[39mif\u001b[39;00m response\u001b[39m.\u001b[39mstatus_code \u001b[39mnot\u001b[39;00m \u001b[39min\u001b[39;00m [\u001b[39m200\u001b[39m]:\n\u001b[1;32m--> 379\u001b[0m     \u001b[39mraise\u001b[39;00m models\u001b[39m.\u001b[39mErrorResponseException(\u001b[39mself\u001b[39m\u001b[39m.\u001b[39m_deserialize, response)\n\u001b[0;32m    381\u001b[0m deserialized \u001b[39m=\u001b[39m \u001b[39mNone\u001b[39;00m\n\u001b[0;32m    382\u001b[0m \u001b[39mif\u001b[39;00m response\u001b[39m.\u001b[39mstatus_code \u001b[39m==\u001b[39m \u001b[39m200\u001b[39m:\n",
      "\u001b[1;31mErrorResponseException\u001b[0m: Operation returned an invalid status code 'Resource Not Found'"
     ]
    }
   ],
   "source": [
    "news_result = client.news.search(query=search_term, market=\"en-US\", count=10)"
   ]
  },
  {
   "cell_type": "markdown",
   "metadata": {},
   "source": [
    "* Parse the response"
   ]
  },
  {
   "cell_type": "code",
   "execution_count": null,
   "metadata": {},
   "outputs": [],
   "source": [
    "if news_result.value:\n",
    "    first_news_result = news_result.value[0]\n",
    "    print(\"Total estimated matches value: {}\".format(\n",
    "        news_result.total_estimated_matches))\n",
    "    print(\"News result count: {}\".format(len(news_result.value)))\n",
    "    print(\"First news name: {}\".format(first_news_result.name))\n",
    "    print(\"First news url: {}\".format(first_news_result.url))\n",
    "    print(\"First news description: {}\".format(first_news_result.description))\n",
    "    print(\"First published time: {}\".format(first_news_result.date_published))\n",
    "    print(\"First news provider: {}\".format(first_news_result.provider[0].name))\n",
    "else:\n",
    "    print(\"Didn't see any news result data..\")"
   ]
  },
  {
   "cell_type": "markdown",
   "metadata": {},
   "source": [
    "----------------------"
   ]
  },
  {
   "cell_type": "markdown",
   "metadata": {},
   "source": [
    "### API Method"
   ]
  },
  {
   "cell_type": "markdown",
   "metadata": {},
   "source": [
    "* METODO REQUEST"
   ]
  },
  {
   "cell_type": "code",
   "execution_count": 1,
   "metadata": {},
   "outputs": [],
   "source": [
    "# tarefa: criar classe com cada propriedade um objeto do request\n",
    "\n",
    "# com o link das paginas -> criar codigo para extrair o hmt diretamente e formatar\n",
    "# metodo de busca... parametros\n",
    "# pesquisar se é possível pegar o texto completo pela description"
   ]
  },
  {
   "cell_type": "code",
   "execution_count": 5,
   "metadata": {},
   "outputs": [],
   "source": [
    "import requests\n",
    "import json\n",
    "import pandas as pd\n",
    "from html2text import html2text\n",
    "\n",
    "search_term = \"Petrobras\"\n",
    "search_url = f'{AZURE_ENDPOINT}v7.0/news/search'"
   ]
  },
  {
   "cell_type": "code",
   "execution_count": 6,
   "metadata": {},
   "outputs": [],
   "source": [
    "headers = {\"Ocp-Apim-Subscription-Key\" : AZURE_SUBSCRIPTION_KEY}\n",
    "params  = {\"q\": search_term, \"textDecorations\": True, \"textFormat\": \"HTML\"}"
   ]
  },
  {
   "cell_type": "code",
   "execution_count": 7,
   "metadata": {},
   "outputs": [],
   "source": [
    "response = requests.get(search_url, headers=headers, params=params)\n",
    "response.raise_for_status()\n",
    "search_results = json.dumps(response.json())\n",
    "search_results = json.loads(search_results) # json -> dict"
   ]
  },
  {
   "cell_type": "code",
   "execution_count": 8,
   "metadata": {},
   "outputs": [
    {
     "data": {
      "text/plain": [
       "[{'name': 'Melhor correspondência',\n",
       "  'id': 'relevance',\n",
       "  'isSelected': True,\n",
       "  'url': 'https://api.bing.microsoft.com/api/v7/news/search?q=Petrobras'},\n",
       " {'name': 'Mais recente',\n",
       "  'id': 'date',\n",
       "  'isSelected': False,\n",
       "  'url': 'https://api.bing.microsoft.com/api/v7/news/search?q=Petrobras&sortby=date'}]"
      ]
     },
     "execution_count": 8,
     "metadata": {},
     "output_type": "execute_result"
    }
   ],
   "source": [
    "search_results['sort']"
   ]
  },
  {
   "cell_type": "markdown",
   "metadata": {},
   "source": [
    "* formatação de output"
   ]
  },
  {
   "cell_type": "code",
   "execution_count": 10,
   "metadata": {},
   "outputs": [],
   "source": [
    "name = [article[\"name\"] for article in search_results[\"value\"]]\n",
    "url = [article[\"url\"] for article in search_results[\"value\"]]\n",
    "\n",
    "provider = [article[\"provider\"] for article in search_results[\"value\"]]\n",
    "datePublished = [article[\"datePublished\"] for article in search_results[\"value\"]]\n",
    "descriptions = [article[\"description\"] for article in search_results[\"value\"]]\n",
    "\n",
    "# about = [article[\"about\"] for article in search_results[\"value\"]]\n",
    "# category = try [article[\"category\"] for article in search_results[\"value\"]]\n",
    "category = []\n",
    "for article in search_results['value']:\n",
    "    try:\n",
    "        category_item = article[\"category\"]\n",
    "    except:\n",
    "        category_item = 'Undefined'\n",
    "    category.append(category_item)\n",
    "\n",
    "about = []\n",
    "for article in search_results['value']:\n",
    "    try:\n",
    "        about_item = article[\"category\"]\n",
    "    except:\n",
    "        about_item = 'Undefined'\n",
    "    about.append(about_item)"
   ]
  },
  {
   "cell_type": "code",
   "execution_count": 11,
   "metadata": {},
   "outputs": [],
   "source": [
    "data = {'name':name,\n",
    "        'descriptions':descriptions,\n",
    "        'about':about,\n",
    "        'provider':provider,\n",
    "        'url':url,\n",
    "        'datePublished':datePublished,\n",
    "        'category':category        \n",
    "        }\n",
    "\n",
    "df_bing_news = pd.DataFrame(data)\n",
    "df_bing_news['provider'] = df_bing_news['provider'].apply(lambda x: x[0]['name'])"
   ]
  },
  {
   "cell_type": "code",
   "execution_count": 12,
   "metadata": {},
   "outputs": [],
   "source": [
    "df_bing_news['descriptions_extracted'] = df_bing_news['descriptions'].apply(lambda x: html2text(x))\n",
    "df_bing_news['name_extracted'] = df_bing_news['name'].apply(lambda x: html2text(x))"
   ]
  },
  {
   "cell_type": "code",
   "execution_count": 14,
   "metadata": {},
   "outputs": [
    {
     "data": {
      "text/plain": [
       "(10, 9)"
      ]
     },
     "execution_count": 14,
     "metadata": {},
     "output_type": "execute_result"
    }
   ],
   "source": [
    "df_bing_news.shape"
   ]
  },
  {
   "cell_type": "code",
   "execution_count": null,
   "metadata": {},
   "outputs": [],
   "source": []
  },
  {
   "cell_type": "code",
   "execution_count": 100,
   "metadata": {},
   "outputs": [],
   "source": [
    "teste = df_bing_news['name'].values[0]"
   ]
  },
  {
   "cell_type": "code",
   "execution_count": 109,
   "metadata": {},
   "outputs": [
    {
     "data": {
      "text/plain": [
       "'Por que a **Petrobras** (PETR4) não está preocupada com a alta no petróleo?\\n\\n'"
      ]
     },
     "execution_count": 109,
     "metadata": {},
     "output_type": "execute_result"
    }
   ],
   "source": [
    "html2text(teste)"
   ]
  },
  {
   "cell_type": "code",
   "execution_count": 108,
   "metadata": {},
   "outputs": [],
   "source": []
  },
  {
   "cell_type": "code",
   "execution_count": 98,
   "metadata": {},
   "outputs": [
    {
     "data": {
      "text/html": [
       "<table><tr><td>Ontem, o petróleo tipo Brent, que é referência internacional, subiu 1,77%, a US$ 91,50 por barril; <b>Petrobras</b> descarta mudanças nos preços dos combustíveis. (Imagem: REUTERS/Regis Duvignau) Os efeitos da guerra entre Israel e o Hamas vem gerando ...</td></tr>\n",
       "<tr><td>A guerra entre Israel e o grupo terrorista Hamas adicionou mais um elemento ao cenário complexo que o petróleo enfrenta nos últimos meses e colocou a Petrobras sob pressão para reajustar preços. Uma e</td></tr>\n",
       "<tr><td>Jean Paul Prates disse que não há, por enquanto, conflitos iminentes em áreas de produção ou escoamento de petróleo</td></tr>\n",
       "<tr><td>O presidente da Petrobras, Jean Paul Prates, disse nesta quarta-feira (18) que a guerra entre Israel e o grupo armado palestino Hamas pode ser uma &quot;tempestade perfeita&quot; que faria o preço dos combustíveis aumentarem. Ele, no entanto, não acredita na possibilidade de áreas de produção e escoamento de petróleo serem afetadas pelo conflito.</td></tr>\n",
       "<tr><td>Ações acompanham desempenho da commodity - que avança no mercado internacional em meio às tensões geopolíticas</td></tr>\n",
       "<tr><td>O conselho de administração da Multiplan aprovou a 12ª emissão de debêntures simples, não conversíveis em ações, da espécie quirografária, em até três séries, para colocação privada, no valor de R$ 750 milhões.</td></tr>\n",
       "<tr><td>Segundo Edmar de Almeida, para haver um desequilíbrio capaz de causar grande impacto sobre os preços internacionais seria necessário um corte coordenado da produção por parte da OPEP+ e da Rússia</td></tr>\n",
       "<tr><td>BRASÍLIA – O presidente da Petrobras, Jean Paul Prates, afirmou nesta quarta-feira, 18, não esperar que a guerra entre Israel e o grupo terrorista Hamas se alastre pela região a ponto de afetar os com</td></tr>\n",
       "<tr><td>Os especialistas do JPMorgan e do Bradesco BBI antecipam uma revisão positiva nas projeções, ao mesmo tempo em que o BBI também indica um aumento nos dividendos. Petrobras (PETR4) tem se destacado no</td></tr>\n",
       "<tr><td>Encontro reforça a importância da Petrobras como líder brasileira na transição energética global. Petrobras recebe secretário-geral da OPEP em visita ao Brasil Nesta segunda-feira (16/08), o president</td></tr></table>"
      ],
      "text/plain": [
       "<IPython.core.display.HTML object>"
      ]
     },
     "execution_count": 98,
     "metadata": {},
     "output_type": "execute_result"
    }
   ],
   "source": [
    "from IPython.display import HTML\n",
    "rows = \"\\n\".join([\"<tr><td>{0}</td></tr>\".format(desc)\n",
    "                  for desc in descriptions])\n",
    "HTML(\"<table>\"+rows+\"</table>\")\n",
    "\n",
    "# https://stackoverflow.com/questions/14694482/converting-html-to-text-with-python"
   ]
  },
  {
   "cell_type": "code",
   "execution_count": null,
   "metadata": {},
   "outputs": [],
   "source": []
  },
  {
   "cell_type": "markdown",
   "metadata": {},
   "source": [
    "## NewsAPI\n"
   ]
  },
  {
   "cell_type": "markdown",
   "metadata": {},
   "source": [
    "https://newsapi.org/"
   ]
  },
  {
   "cell_type": "code",
   "execution_count": null,
   "metadata": {},
   "outputs": [],
   "source": []
  },
  {
   "cell_type": "code",
   "execution_count": null,
   "metadata": {},
   "outputs": [],
   "source": []
  },
  {
   "cell_type": "code",
   "execution_count": null,
   "metadata": {},
   "outputs": [],
   "source": []
  }
 ],
 "metadata": {
  "kernelspec": {
   "display_name": ".venv",
   "language": "python",
   "name": "python3"
  },
  "language_info": {
   "codemirror_mode": {
    "name": "ipython",
    "version": 3
   },
   "file_extension": ".py",
   "mimetype": "text/x-python",
   "name": "python",
   "nbconvert_exporter": "python",
   "pygments_lexer": "ipython3",
   "version": "3.11.4"
  },
  "orig_nbformat": 4
 },
 "nbformat": 4,
 "nbformat_minor": 2
}
