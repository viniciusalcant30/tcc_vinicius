{
 "cells": [
  {
   "cell_type": "markdown",
   "metadata": {},
   "source": [
    "# Objetivo:"
   ]
  },
  {
   "cell_type": "markdown",
   "metadata": {},
   "source": [
    "Criar código para que seja possível definir um ticket/empresa listada na bolsa e ser retornado todas as notícias relacionadas"
   ]
  },
  {
   "cell_type": "markdown",
   "metadata": {},
   "source": [
    "as notícias devem conter:\n",
    "* título\n",
    "* data\n",
    "* meio de comunicação\n",
    "* conteúdo textual"
   ]
  },
  {
   "cell_type": "code",
   "execution_count": null,
   "metadata": {},
   "outputs": [],
   "source": [
    "# criar código para extrair o texto diretamente do link"
   ]
  },
  {
   "cell_type": "markdown",
   "metadata": {},
   "source": [
    "## Google API"
   ]
  },
  {
   "cell_type": "markdown",
   "metadata": {},
   "source": [
    "**links**\n",
    "\n",
    "\n",
    "https://medium.com/analytics-vidhya/googlenews-api-live-news-from-google-news-using-python-b50272f0a8f0\n",
    "\n",
    "\n",
    "-----------------------------------------------------------"
   ]
  },
  {
   "cell_type": "markdown",
   "metadata": {},
   "source": [
    "Considerações \n",
    "\n",
    "    - ordenação por ordem de publicação\n",
    "    - os links não funcionam\n",
    "    - funciona melhor em ingles: data vem corretamente"
   ]
  },
  {
   "cell_type": "code",
   "execution_count": 4,
   "metadata": {},
   "outputs": [],
   "source": [
    "import google_search as gnews"
   ]
  },
  {
   "cell_type": "code",
   "execution_count": 5,
   "metadata": {},
   "outputs": [
    {
     "name": "stdout",
     "output_type": "stream",
     "text": [
      "HTTP Error 429: Too Many Requests\n"
     ]
    }
   ],
   "source": [
    "search_term = 'russia'\n",
    "page_count = 1\n",
    "\n",
    "result = gnews.search_news(search_term, page_count)"
   ]
  },
  {
   "cell_type": "code",
   "execution_count": null,
   "metadata": {},
   "outputs": [],
   "source": [
    "result['link'] = result['link'].apply(lambda x: x.split('&ved=')[0])"
   ]
  },
  {
   "cell_type": "markdown",
   "metadata": {},
   "source": [
    "## Bing news"
   ]
  },
  {
   "cell_type": "markdown",
   "metadata": {},
   "source": [
    "**link** \n",
    "\n",
    "https://learn.microsoft.com/en-us/azure/cognitive-services/bing-news-search/python\n",
    "\n",
    "https://learn.microsoft.com/en-us/bing/search-apis/bing-news-search/overview"
   ]
  },
  {
   "cell_type": "markdown",
   "metadata": {},
   "source": [
    "possível fazer por **api/request** ou **client library**\n",
    "\n",
    "* **api/request**: https://learn.microsoft.com/en-us/bing/search-apis/bing-news-search/quickstarts/rest/python\n",
    "\n",
    "* **client library**: https://learn.microsoft.com/en-us/bing/search-apis/bing-news-search/quickstarts/sdk/news-search-client-library-python"
   ]
  },
  {
   "cell_type": "markdown",
   "metadata": {},
   "source": [
    "### API Method"
   ]
  },
  {
   "cell_type": "markdown",
   "metadata": {},
   "source": [
    "* METODO REQUEST"
   ]
  },
  {
   "cell_type": "markdown",
   "metadata": {},
   "source": [
    "https://learn.microsoft.com/en-us/bing/search-apis/bing-news-search/reference/query-parameters\n",
    "\n",
    "\n",
    "https://www.microsoft.com/en-us/bing/apis/pricing"
   ]
  },
  {
   "cell_type": "code",
   "execution_count": 1,
   "metadata": {},
   "outputs": [],
   "source": [
    "import bing_search as bing"
   ]
  },
  {
   "cell_type": "code",
   "execution_count": 2,
   "metadata": {},
   "outputs": [
    {
     "data": {
      "text/html": [
       "<div>\n",
       "<style scoped>\n",
       "    .dataframe tbody tr th:only-of-type {\n",
       "        vertical-align: middle;\n",
       "    }\n",
       "\n",
       "    .dataframe tbody tr th {\n",
       "        vertical-align: top;\n",
       "    }\n",
       "\n",
       "    .dataframe thead th {\n",
       "        text-align: right;\n",
       "    }\n",
       "</style>\n",
       "<table border=\"1\" class=\"dataframe\">\n",
       "  <thead>\n",
       "    <tr style=\"text-align: right;\">\n",
       "      <th></th>\n",
       "      <th>name</th>\n",
       "      <th>descriptions</th>\n",
       "      <th>about</th>\n",
       "      <th>provider</th>\n",
       "      <th>url</th>\n",
       "      <th>datePublished</th>\n",
       "      <th>category</th>\n",
       "      <th>descriptions_raw</th>\n",
       "      <th>name_raw</th>\n",
       "    </tr>\n",
       "  </thead>\n",
       "  <tbody>\n",
       "    <tr>\n",
       "      <th>0</th>\n",
       "      <td>Israel diz ter atacado bases do Hezbollah e ma...</td>\n",
       "      <td>As Forças de Defesa de Israel afirmam ter atin...</td>\n",
       "      <td>World</td>\n",
       "      <td>UOL</td>\n",
       "      <td>https://noticias.uol.com.br/internacional/ulti...</td>\n",
       "      <td>2023-10-20T07:51:00.0000000Z</td>\n",
       "      <td>World</td>\n",
       "      <td>As Forças de Defesa de Israel afirmam ter atin...</td>\n",
       "      <td>Israel diz ter atacado bases do Hezbollah e ma...</td>\n",
       "    </tr>\n",
       "    <tr>\n",
       "      <th>1</th>\n",
       "      <td>Em meio às novas tensões entre Israel e palest...</td>\n",
       "      <td>Com o mundo ainda sob impacto das atrocidades ...</td>\n",
       "      <td>World</td>\n",
       "      <td>Veja</td>\n",
       "      <td>https://veja.abril.com.br/mundo/em-meio-a-esca...</td>\n",
       "      <td>2023-10-20T09:00:00.0000000Z</td>\n",
       "      <td>World</td>\n",
       "      <td>Com o mundo ainda sob impacto das atrocidades ...</td>\n",
       "      <td>Em meio às novas tensões entre Israel e palest...</td>\n",
       "    </tr>\n",
       "    <tr>\n",
       "      <th>2</th>\n",
       "      <td>Israel evacua cidade após conflitos na frontei...</td>\n",
       "      <td>Os confrontos entre o exército israelense e o ...</td>\n",
       "      <td>World</td>\n",
       "      <td>Record News</td>\n",
       "      <td>https://noticias.r7.com/internacional/israel-e...</td>\n",
       "      <td>2023-10-20T08:43:00.0000000Z</td>\n",
       "      <td>World</td>\n",
       "      <td>Os confrontos entre o exército israelense e o ...</td>\n",
       "      <td>Israel evacua cidade após conflitos na frontei...</td>\n",
       "    </tr>\n",
       "    <tr>\n",
       "      <th>3</th>\n",
       "      <td>Israel diz ter matado terrorista do Hamas que ...</td>\n",
       "      <td>Israel anunciou ter matado um terrorista do Ha...</td>\n",
       "      <td>World</td>\n",
       "      <td>globo</td>\n",
       "      <td>https://g1.globo.com/mundo/noticia/2023/10/20/...</td>\n",
       "      <td>2023-10-20T06:19:00.0000000Z</td>\n",
       "      <td>World</td>\n",
       "      <td>Israel anunciou ter matado um terrorista do Ha...</td>\n",
       "      <td>Israel diz ter matado terrorista do Hamas que ...</td>\n",
       "    </tr>\n",
       "    <tr>\n",
       "      <th>4</th>\n",
       "      <td>Israel anuncia que vai evacuar cidade que fica...</td>\n",
       "      <td>Região de Kiryat Shmona foi alvo de ataques do...</td>\n",
       "      <td>World</td>\n",
       "      <td>globo</td>\n",
       "      <td>https://g1.globo.com/mundo/noticia/2023/10/20/...</td>\n",
       "      <td>2023-10-20T05:18:00.0000000Z</td>\n",
       "      <td>World</td>\n",
       "      <td>Região de Kiryat Shmona foi alvo de ataques do...</td>\n",
       "      <td>Israel anuncia que vai evacuar cidade que fica...</td>\n",
       "    </tr>\n",
       "  </tbody>\n",
       "</table>\n",
       "</div>"
      ],
      "text/plain": [
       "                                                name  \\\n",
       "0  Israel diz ter atacado bases do Hezbollah e ma...   \n",
       "1  Em meio às novas tensões entre Israel e palest...   \n",
       "2  Israel evacua cidade após conflitos na frontei...   \n",
       "3  Israel diz ter matado terrorista do Hamas que ...   \n",
       "4  Israel anuncia que vai evacuar cidade que fica...   \n",
       "\n",
       "                                        descriptions  about     provider  \\\n",
       "0  As Forças de Defesa de Israel afirmam ter atin...  World          UOL   \n",
       "1  Com o mundo ainda sob impacto das atrocidades ...  World         Veja   \n",
       "2  Os confrontos entre o exército israelense e o ...  World  Record News   \n",
       "3  Israel anunciou ter matado um terrorista do Ha...  World        globo   \n",
       "4  Região de Kiryat Shmona foi alvo de ataques do...  World        globo   \n",
       "\n",
       "                                                 url  \\\n",
       "0  https://noticias.uol.com.br/internacional/ulti...   \n",
       "1  https://veja.abril.com.br/mundo/em-meio-a-esca...   \n",
       "2  https://noticias.r7.com/internacional/israel-e...   \n",
       "3  https://g1.globo.com/mundo/noticia/2023/10/20/...   \n",
       "4  https://g1.globo.com/mundo/noticia/2023/10/20/...   \n",
       "\n",
       "                  datePublished category  \\\n",
       "0  2023-10-20T07:51:00.0000000Z    World   \n",
       "1  2023-10-20T09:00:00.0000000Z    World   \n",
       "2  2023-10-20T08:43:00.0000000Z    World   \n",
       "3  2023-10-20T06:19:00.0000000Z    World   \n",
       "4  2023-10-20T05:18:00.0000000Z    World   \n",
       "\n",
       "                                    descriptions_raw  \\\n",
       "0  As Forças de Defesa de Israel afirmam ter atin...   \n",
       "1  Com o mundo ainda sob impacto das atrocidades ...   \n",
       "2  Os confrontos entre o exército israelense e o ...   \n",
       "3  Israel anunciou ter matado um terrorista do Ha...   \n",
       "4  Região de Kiryat Shmona foi alvo de ataques do...   \n",
       "\n",
       "                                            name_raw  \n",
       "0  Israel diz ter atacado bases do Hezbollah e ma...  \n",
       "1  Em meio às novas tensões entre Israel e palest...  \n",
       "2  Israel evacua cidade após conflitos na frontei...  \n",
       "3  Israel diz ter matado terrorista do Hamas que ...  \n",
       "4  Israel anuncia que vai evacuar cidade que fica...  "
      ]
     },
     "execution_count": 2,
     "metadata": {},
     "output_type": "execute_result"
    }
   ],
   "source": [
    "search_term = 'israel'\n",
    "result_count = 5\n",
    "\n",
    "result = bing.search_news(search_term, result_count)\n",
    "result"
   ]
  },
  {
   "cell_type": "code",
   "execution_count": 20,
   "metadata": {},
   "outputs": [],
   "source": [
    "# from IPython.display import HTML\n",
    "# rows = \"\\n\".join([\"<tr><td>{0}</td></tr>\".format(desc)\n",
    "#                   for desc in descriptions])\n",
    "# HTML(\"<table>\"+rows+\"</table>\")\n",
    "\n",
    "# https://stackoverflow.com/questions/14694482/converting-html-to-text-with-python"
   ]
  }
 ],
 "metadata": {
  "kernelspec": {
   "display_name": ".venv",
   "language": "python",
   "name": "python3"
  },
  "language_info": {
   "codemirror_mode": {
    "name": "ipython",
    "version": 3
   },
   "file_extension": ".py",
   "mimetype": "text/x-python",
   "name": "python",
   "nbconvert_exporter": "python",
   "pygments_lexer": "ipython3",
   "version": "3.11.4"
  },
  "orig_nbformat": 4
 },
 "nbformat": 4,
 "nbformat_minor": 2
}
