{
 "cells": [
  {
   "cell_type": "code",
   "execution_count": 1,
   "metadata": {},
   "outputs": [],
   "source": [
    "from blob_storage import download as blob_storage \n",
    "import pandas as pd\n",
    "import numpy as np\n",
    "import util\n",
    "import sentiment_score"
   ]
  },
  {
   "cell_type": "code",
   "execution_count": 2,
   "metadata": {},
   "outputs": [
    {
     "name": "stdout",
     "output_type": "stream",
     "text": [
      "\n",
      "Listing blobs...\n"
     ]
    },
    {
     "name": "stderr",
     "output_type": "stream",
     "text": [
      "0it [00:00, ?it/s]"
     ]
    },
    {
     "name": "stderr",
     "output_type": "stream",
     "text": [
      "26it [00:09,  2.67it/s]"
     ]
    },
    {
     "name": "stdout",
     "output_type": "stream",
     "text": [
      "26 arquivos baixados com sucesso\n"
     ]
    },
    {
     "name": "stderr",
     "output_type": "stream",
     "text": [
      "\n"
     ]
    }
   ],
   "source": [
    "local_path = \"C:\\\\Users\\\\Vinim\\\\Documents\\\\github\\\\tcc_vinicius\\\\data\"\n",
    "\n",
    "# download de todos os arquivos \n",
    "blob_storage.download_blob_storage(local_path)"
   ]
  },
  {
   "cell_type": "code",
   "execution_count": 3,
   "metadata": {},
   "outputs": [],
   "source": [
    "df = util.get_dataframe(local_path)"
   ]
  },
  {
   "cell_type": "code",
   "execution_count": null,
   "metadata": {},
   "outputs": [],
   "source": [
    "data\\"
   ]
  },
  {
   "cell_type": "code",
   "execution_count": null,
   "metadata": {},
   "outputs": [],
   "source": [
    "pd.read_parquet('C:\\\\Users\\\\Vinim\\\\Documents\\\\github\\\\tcc_vinicius\\\\data\\\\result_2024-02-05-21h-42min.parquet')"
   ]
  },
  {
   "cell_type": "code",
   "execution_count": 37,
   "metadata": {},
   "outputs": [],
   "source": [
    "df = df[df['data_de_busca'] == '2024-02-05'].copy()"
   ]
  },
  {
   "cell_type": "markdown",
   "metadata": {},
   "source": [
    "- sentiment score"
   ]
  },
  {
   "cell_type": "code",
   "execution_count": 38,
   "metadata": {},
   "outputs": [],
   "source": [
    "liwc2015 = sentiment_score.read_liwc('LIWC2015 Dictionary - Brazilian Portuguese.dicx')"
   ]
  },
  {
   "cell_type": "code",
   "execution_count": 39,
   "metadata": {},
   "outputs": [],
   "source": [
    "# df['full_text_score'] = df['full_text'].apply(lambda x: sentiment_score.get_sentiment_score(x, liwc2015))"
   ]
  },
  {
   "cell_type": "code",
   "execution_count": 43,
   "metadata": {},
   "outputs": [],
   "source": [
    "import nltk"
   ]
  },
  {
   "cell_type": "code",
   "execution_count": 44,
   "metadata": {},
   "outputs": [],
   "source": [
    "def get_sentiment_score(text, dictionary):\n",
    "    tokens = nltk.word_tokenize(text,language='portuguese')\n",
    "\n",
    "    df_tokens = pd.DataFrame({'tokens':tokens})\n",
    "    df_tokens['tokens'] = df_tokens['tokens'].astype('str').str.lower()\n",
    "\n",
    "    result = pd.merge(df_tokens, dictionary, left_on='tokens',right_on='DicTerm', how='left')\n",
    "    result['score_liwc2015'].fillna(0, inplace=True)\n",
    "\n",
    "    palavras = result.shape[0]\n",
    "    count_n = (result['score_liwc2015'] == -1).sum()\n",
    "    count_p = (result['score_liwc2015'] == 1).sum()\n",
    "\n",
    "    result_score = result.loc[result['score_liwc2015'] != 0,'score_liwc2015'].mean()\n",
    "\n",
    "    raw_mean = result['score_liwc2015'].mean()\n",
    "\n",
    "    return f'{count_p}-{count_n}-{result_score}-{palavras}-{raw_mean}'"
   ]
  },
  {
   "cell_type": "code",
   "execution_count": 45,
   "metadata": {},
   "outputs": [],
   "source": [
    "df['scores'] = df['full_text'].apply(lambda x: get_sentiment_score(x, liwc2015))"
   ]
  },
  {
   "cell_type": "code",
   "execution_count": 48,
   "metadata": {},
   "outputs": [],
   "source": [
    "df[['positivo', 'negativo', 'média', 'qnt palavras', 'média todos']] = df['scores'].str.split('-', expand=True)"
   ]
  },
  {
   "cell_type": "code",
   "execution_count": 49,
   "metadata": {},
   "outputs": [],
   "source": [
    "df.drop_duplicates(subset='name').to_excel('teste_score_05-02.xlsx')"
   ]
  }
 ],
 "metadata": {
  "kernelspec": {
   "display_name": ".venv",
   "language": "python",
   "name": "python3"
  },
  "language_info": {
   "codemirror_mode": {
    "name": "ipython",
    "version": 3
   },
   "file_extension": ".py",
   "mimetype": "text/x-python",
   "name": "python",
   "nbconvert_exporter": "python",
   "pygments_lexer": "ipython3",
   "version": "3.12.1"
  }
 },
 "nbformat": 4,
 "nbformat_minor": 2
}
