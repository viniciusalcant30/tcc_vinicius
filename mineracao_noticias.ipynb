{
 "cells": [
  {
   "cell_type": "markdown",
   "metadata": {},
   "source": [
    "# Objetivo:"
   ]
  },
  {
   "cell_type": "markdown",
   "metadata": {},
   "source": [
    "Criar código para que seja possível definir um ticket/empresa listada na bolsa e ser retornado todas as notícias relacionadas"
   ]
  },
  {
   "cell_type": "markdown",
   "metadata": {},
   "source": [
    "as notícias devem conter:\n",
    "* título\n",
    "* data\n",
    "* meio de comunicação\n",
    "* conteúdo textual"
   ]
  },
  {
   "cell_type": "code",
   "execution_count": 5,
   "metadata": {},
   "outputs": [],
   "source": [
    "# criar código para extrair o texto diretamente do link"
   ]
  },
  {
   "cell_type": "markdown",
   "metadata": {},
   "source": [
    "Considerações \n",
    "\n",
    "    - ordenação por ordem de publicação\n",
    "    - os links não funcionam\n",
    "    - funciona melhor em ingles: data vem corretamente"
   ]
  },
  {
   "cell_type": "markdown",
   "metadata": {},
   "source": [
    "## Bing news"
   ]
  },
  {
   "cell_type": "markdown",
   "metadata": {},
   "source": [
    "### API Method"
   ]
  },
  {
   "cell_type": "markdown",
   "metadata": {},
   "source": [
    "* METODO REQUEST"
   ]
  },
  {
   "cell_type": "markdown",
   "metadata": {},
   "source": [
    "https://learn.microsoft.com/en-us/bing/search-apis/bing-news-search/reference/query-parameters\n",
    "\n",
    "\n",
    "https://www.microsoft.com/en-us/bing/apis/pricing"
   ]
  },
  {
   "cell_type": "code",
   "execution_count": 5,
   "metadata": {},
   "outputs": [],
   "source": [
    "import bing_search as bing\n",
    "import pandas as pd\n",
    "import util\n",
    "from datetime import datetime "
   ]
  },
  {
   "cell_type": "code",
   "execution_count": 6,
   "metadata": {},
   "outputs": [],
   "source": [
    "def process_search(searches, result_count, period=\"Day\"):\n",
    "    dfs = []\n",
    "    today = datetime.today().strftime('%Y-%m-%d')\n",
    "    for search_term in searches:\n",
    "        result = bing.search_news(search_term, result_count, period)\n",
    "        result['full_text'] = result['url'].apply(util.extract_url_content)\n",
    "        result['key'] = search_term\n",
    "        result['data_de_busca'] = today\n",
    "        dfs.append(result)\n",
    "        \n",
    "    dfs_result = pd.concat(dfs) \n",
    "    return dfs_result"
   ]
  },
  {
   "cell_type": "code",
   "execution_count": 7,
   "metadata": {},
   "outputs": [],
   "source": [
    "searches = ['ITUB4', 'BBDC4', 'VALE3', 'MGLU3']\n",
    "df_result = process_search(searches,5)\n",
    "today = datetime.today().strftime('%Y-%m-%d')\n",
    "df_result.to_parquet(f'result_{today}.parquet')"
   ]
  },
  {
   "cell_type": "markdown",
   "metadata": {},
   "source": [
    "--------------"
   ]
  },
  {
   "cell_type": "markdown",
   "metadata": {},
   "source": [
    "# blob storage "
   ]
  },
  {
   "cell_type": "code",
   "execution_count": 1,
   "metadata": {},
   "outputs": [],
   "source": [
    "import os, uuid\n",
    "from azure.identity import DefaultAzureCredential\n",
    "from azure.storage.blob import BlobServiceClient, BlobClient, ContainerClient"
   ]
  },
  {
   "cell_type": "code",
   "execution_count": 4,
   "metadata": {},
   "outputs": [],
   "source": [
    "def blob_send_itens(local_file_name):\n",
    "    try:\n",
    "        print(\"Azure Blob Storage Python\")\n",
    "\n",
    "        account_url = \"https://armazenamentonews.blob.core.windows.net\"\n",
    "        default_credential = DefaultAzureCredential()\n",
    "\n",
    "        # Create the BlobServiceClient object\n",
    "        blob_service_client = BlobServiceClient(account_url, credential=default_credential)\n",
    "\n",
    "        # Create a file in the local data directory to upload and download\n",
    "        container_name = 'arquivos'\n",
    "        local_path = 'upload_file'\n",
    "        # local_file_name = 'result_2024-01-13.parquet'\n",
    "        upload_file_path = os.path.join(local_path, local_file_name)\n",
    "\n",
    "        # Create a blob client using the local file name as the name for the blob\n",
    "        blob_client = blob_service_client.get_blob_client(container=container_name, blob=local_file_name)\n",
    "\n",
    "        print(\"\\nUploading to Azure Storage as blob:\\n\\t\" + local_file_name)\n",
    "\n",
    "        # Upload the created file\n",
    "        with open(file=upload_file_path, mode=\"rb\") as data:\n",
    "            blob_client.upload_blob(data)\n",
    "        return f'done:{local_file_name}'\n",
    "    \n",
    "    except Exception as ex:    \n",
    "        result =  f'Exception:{ex}' \n",
    "        print(result)\n",
    "        return result "
   ]
  },
  {
   "cell_type": "code",
   "execution_count": null,
   "metadata": {},
   "outputs": [],
   "source": [
    "item_sent = blob_send_itens('result_2024-01-13.parquet')"
   ]
  }
 ],
 "metadata": {
  "kernelspec": {
   "display_name": ".venv",
   "language": "python",
   "name": "python3"
  },
  "language_info": {
   "codemirror_mode": {
    "name": "ipython",
    "version": 3
   },
   "file_extension": ".py",
   "mimetype": "text/x-python",
   "name": "python",
   "nbconvert_exporter": "python",
   "pygments_lexer": "ipython3",
   "version": "3.11.4"
  },
  "orig_nbformat": 4
 },
 "nbformat": 4,
 "nbformat_minor": 2
}
