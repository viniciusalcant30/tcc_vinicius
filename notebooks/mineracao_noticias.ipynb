{
 "cells": [
  {
   "cell_type": "markdown",
   "metadata": {},
   "source": [
    "## Bing news"
   ]
  },
  {
   "cell_type": "markdown",
   "metadata": {},
   "source": [
    "### API Method"
   ]
  },
  {
   "cell_type": "markdown",
   "metadata": {},
   "source": [
    "> METODO REQUEST\n",
    "\n",
    "> https://learn.microsoft.com/en-us/bing/search-apis/bing-news-search/reference/query-parameters\n",
    "\n",
    "> https://www.microsoft.com/en-us/bing/apis/pricing"
   ]
  },
  {
   "cell_type": "code",
   "execution_count": 20,
   "metadata": {},
   "outputs": [],
   "source": [
    "import os\n",
    "os.chdir('C:\\\\Users\\\\Vinim\\\\Documents\\\\github\\\\tcc_vinicius')"
   ]
  },
  {
   "cell_type": "code",
   "execution_count": 21,
   "metadata": {},
   "outputs": [],
   "source": [
    "import deployed_azure.bing_search as bing\n",
    "import pandas as pd\n",
    "import deployed_azure.util as util\n",
    "from datetime import datetime \n",
    "\n",
    "today = datetime.today().strftime('%Y-%m-%d')"
   ]
  },
  {
   "cell_type": "code",
   "execution_count": 22,
   "metadata": {},
   "outputs": [],
   "source": [
    "def process_search(searches, result_count, period=\"day\"):\n",
    "    dfs = []\n",
    "    today = datetime.today().strftime('%Y-%m-%d-%Hh-%Mmin')\n",
    "    for search_term in searches:\n",
    "        result = bing.search_news(search_term, result_count, period)\n",
    "        result['full_text'] = result['url'].apply(util.extract_url_content)\n",
    "        result['key'] = search_term\n",
    "        result['data_de_busca'] = today\n",
    "        dfs.append(result)\n",
    "        \n",
    "    dfs_result = pd.concat(dfs) \n",
    "    return dfs_result"
   ]
  },
  {
   "cell_type": "code",
   "execution_count": 23,
   "metadata": {},
   "outputs": [],
   "source": [
    "searches = [\n",
    "    \"PETR4\", \"Petrobras\", \"PETROLEO BRASILEIRO S A PETROBRAS\",\n",
    "    \"VALE3\", \"Vale\", \"VALE S.A.\",\n",
    "    \"ITUB4\", \"Itaú Unibanco\", \"ITAU UNIBANCO HOLDING S.A.\",\n",
    "    \"ABEV3\", \"Ambev\", \"AMBEV S.A.\",\n",
    "    \"WEGE3\", \"WEG\", \"WEG SA\",\n",
    "    \"BBDC4\", \"Banco Bradesco\", \"BANCO BRADESCO S.A.\",\n",
    "    \"BBAS3\", \"Banco do Brasil\", \"BANCO DO BRASIL SA\",\n",
    "    \"BPAC11\", \"Banco BTG Pactual\", \"BANCO BTG PACTUAL S.A.\",\n",
    "    \"SANB3\", \"Banco Santander\", \"BANCO SANTANDER (BRASIL) S.A.\",\n",
    "    \"ITSA4\", \"Itaúsa\", \"ITAUSA S.A.\"\n",
    "    ]\n",
    "df_result = process_search(searches,10)"
   ]
  },
  {
   "cell_type": "code",
   "execution_count": 24,
   "metadata": {},
   "outputs": [],
   "source": [
    "# name = 'data//result_2024-04-10-11_2.parquet'\n"
   ]
  },
  {
   "cell_type": "code",
   "execution_count": 25,
   "metadata": {},
   "outputs": [],
   "source": [
    "name = f'data//result_{today}.parquet'\n",
    "df_result.to_parquet(name)\n"
   ]
  },
  {
   "cell_type": "markdown",
   "metadata": {},
   "source": [
    "--------------"
   ]
  },
  {
   "cell_type": "markdown",
   "metadata": {},
   "source": [
    "# blob storage "
   ]
  },
  {
   "cell_type": "code",
   "execution_count": 26,
   "metadata": {},
   "outputs": [],
   "source": [
    "import os, uuid\n",
    "from azure.identity import DefaultAzureCredential\n",
    "from azure.storage.blob import BlobServiceClient, BlobClient, ContainerClient"
   ]
  },
  {
   "cell_type": "code",
   "execution_count": 27,
   "metadata": {},
   "outputs": [],
   "source": [
    "def blob_send_itens(local_file_name):\n",
    "    try:\n",
    "        print(\"Azure Blob Storage Python\")\n",
    "\n",
    "        account_url = \"https://appstocknewsprediction.blob.core.windows.net\"\n",
    "        default_credential = DefaultAzureCredential()\n",
    "\n",
    "        # Create the BlobServiceClient object\n",
    "        blob_service_client = BlobServiceClient(account_url, credential=default_credential)\n",
    "\n",
    "        # Create a file in the local data directory to upload and download\n",
    "        container_name = 'result-function-stocknews'\n",
    "        local_path = 'data'\n",
    "        # local_file_name = 'result_2024-01-13.parquet'\n",
    "        upload_file_path = os.path.join(local_path, local_file_name)\n",
    "\n",
    "        # Create a blob client using the local file name as the name for the blob\n",
    "        blob_client = blob_service_client.get_blob_client(container=container_name, blob=local_file_name)\n",
    "\n",
    "        print(\"\\nUploading to Azure Storage as blob:\\n\\t\" + local_file_name)\n",
    "\n",
    "        # Upload the created file\n",
    "        with open(file=upload_file_path, mode=\"rb\") as data:\n",
    "            blob_client.upload_blob(data)\n",
    "        return f'done:{local_file_name}'\n",
    "    \n",
    "    except Exception as ex:    \n",
    "        result =  f'Exception:{ex}' \n",
    "        print(result)\n",
    "        return result "
   ]
  },
  {
   "cell_type": "code",
   "execution_count": 28,
   "metadata": {},
   "outputs": [
    {
     "name": "stdout",
     "output_type": "stream",
     "text": [
      "Azure Blob Storage Python\n",
      "\n",
      "Uploading to Azure Storage as blob:\n",
      "\tresult_2024-04-10-11_2.parquet\n"
     ]
    }
   ],
   "source": [
    "item_sent = blob_send_itens(name[6:])"
   ]
  }
 ],
 "metadata": {
  "kernelspec": {
   "display_name": ".venv",
   "language": "python",
   "name": "python3"
  },
  "language_info": {
   "codemirror_mode": {
    "name": "ipython",
    "version": 3
   },
   "file_extension": ".py",
   "mimetype": "text/x-python",
   "name": "python",
   "nbconvert_exporter": "python",
   "pygments_lexer": "ipython3",
   "version": "3.12.1"
  },
  "orig_nbformat": 4
 },
 "nbformat": 4,
 "nbformat_minor": 2
}
